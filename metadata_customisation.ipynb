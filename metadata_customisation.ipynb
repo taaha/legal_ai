{
 "cells": [
  {
   "cell_type": "markdown",
   "metadata": {},
   "source": [
    "# Controlling the Metadata and Filtering queries using metadata"
   ]
  },
  {
   "cell_type": "code",
   "execution_count": 1,
   "metadata": {},
   "outputs": [
    {
     "data": {
      "text/plain": [
       "True"
      ]
     },
     "execution_count": 1,
     "metadata": {},
     "output_type": "execute_result"
    }
   ],
   "source": [
    "from llama_index.core import VectorStoreIndex, SimpleDirectoryReader\n",
    "from llama_index.vector_stores.chroma import ChromaVectorStore\n",
    "from llama_index.core import StorageContext\n",
    "from llama_index.embeddings.openai import OpenAIEmbedding\n",
    "from llama_index.core import Settings\n",
    "import chromadb\n",
    "import openai\n",
    "import os\n",
    "import utils\n",
    "from dotenv import load_dotenv\n",
    "\n",
    "\n",
    "load_dotenv()  # take environment variables from .env."
   ]
  },
  {
   "cell_type": "code",
   "execution_count": 2,
   "metadata": {},
   "outputs": [],
   "source": [
    "documents = SimpleDirectoryReader(\"./documents_4_v0\").load_data()"
   ]
  },
  {
   "cell_type": "code",
   "execution_count": 5,
   "metadata": {},
   "outputs": [
    {
     "name": "stdout",
     "output_type": "stream",
     "text": [
      "Doc ID: ce88fb5c-f181-4a3a-8701-6a3fabb898c8\n",
      "Text: Ashoka Kumar Thakur vs Union Of India And Ors on 10 April, 2008\n",
      "Author: Arijit Pasayat Bench: Arijit Pasayat, C.K. Thakker\n",
      "CASE NO.: Writ Petition (civil)  265 of 2006 PETITIONER: Ashoka Kumar\n",
      "Thakur RESPONDENT: Union of India and Ors DATE OF JUDGMENT: 10/04/2008\n",
      "BENCH: Dr. ARIJIT PASAYAT & C.K. THAKKER JUDGMENT: J U D G M E N T\n",
      "WRIT ...\n"
     ]
    }
   ],
   "source": [
    "print(documents[0])"
   ]
  },
  {
   "cell_type": "code",
   "execution_count": 4,
   "metadata": {},
   "outputs": [
    {
     "data": {
      "text/plain": [
       "{'page_label': '1',\n",
       " 'file_name': 'Ashoka_Kumar_Thakur_vs_Union_Of_India_And_Ors_on_10_April_2008.PDF',\n",
       " 'file_path': '/home/darth/Documents/code/legal_AI/legal_ai_v1/legal_ai/documents_4_v0/Ashoka_Kumar_Thakur_vs_Union_Of_India_And_Ors_on_10_April_2008.PDF',\n",
       " 'file_type': 'application/pdf',\n",
       " 'file_size': 524049,\n",
       " 'creation_date': '2024-03-11',\n",
       " 'last_modified_date': '2024-02-27'}"
      ]
     },
     "execution_count": 4,
     "metadata": {},
     "output_type": "execute_result"
    }
   ],
   "source": [
    "documents[0].metadata"
   ]
  },
  {
   "cell_type": "code",
   "execution_count": 6,
   "metadata": {},
   "outputs": [
    {
     "data": {
      "text/plain": [
       "'Ashoka_Kumar_Thakur_vs_Union_Of_India_And_Ors_on_10_April_2008.PDF'"
      ]
     },
     "execution_count": 6,
     "metadata": {},
     "output_type": "execute_result"
    }
   ],
   "source": [
    "documents[0].metadata[\"file_name\"]"
   ]
  },
  {
   "cell_type": "code",
   "execution_count": 7,
   "metadata": {},
   "outputs": [
    {
     "data": {
      "text/plain": [
       "1320"
      ]
     },
     "execution_count": 7,
     "metadata": {},
     "output_type": "execute_result"
    }
   ],
   "source": [
    "len(documents)"
   ]
  },
  {
   "cell_type": "markdown",
   "metadata": {},
   "source": [
    "### Reconfiguring Metadata"
   ]
  },
  {
   "cell_type": "code",
   "execution_count": 8,
   "metadata": {},
   "outputs": [],
   "source": [
    "from llama_index.core import VectorStoreIndex, Document\n",
    "from llama_index.core.vector_stores import MetadataFilters, ExactMatchFilter\n",
    "\n",
    "# documents = [\n",
    "#     Document(text=\"text\", metadata={\"author\": \"LlamaIndex\"}),\n",
    "#     Document(text=\"text\", metadata={\"author\": \"John Doe\"}),\n",
    "# ]\n",
    "documents_with_metadata = []\n",
    "\n",
    "for document in documents:\n",
    "    documents_with_metadata.append(Document(text=document.text, metadata={\n",
    "                                                                            \"page\": document.metadata[\"page_label\"], \n",
    "                                                                            \"pdf_name\": document.metadata[\"file_name\"]\n",
    "                                                                        }))"
   ]
  },
  {
   "cell_type": "code",
   "execution_count": 36,
   "metadata": {},
   "outputs": [
    {
     "data": {
      "text/html": [
       "<div>\n",
       "<style scoped>\n",
       "    .dataframe tbody tr th:only-of-type {\n",
       "        vertical-align: middle;\n",
       "    }\n",
       "\n",
       "    .dataframe tbody tr th {\n",
       "        vertical-align: top;\n",
       "    }\n",
       "\n",
       "    .dataframe thead th {\n",
       "        text-align: right;\n",
       "    }\n",
       "</style>\n",
       "<table border=\"1\" class=\"dataframe\">\n",
       "  <thead>\n",
       "    <tr style=\"text-align: right;\">\n",
       "      <th></th>\n",
       "      <th>pdf_name</th>\n",
       "      <th>page</th>\n",
       "      <th>id</th>\n",
       "    </tr>\n",
       "  </thead>\n",
       "  <tbody>\n",
       "    <tr>\n",
       "      <th>0</th>\n",
       "      <td>Ashoka_Kumar_Thakur_vs_Union_Of_India_And_Ors_...</td>\n",
       "      <td>1</td>\n",
       "      <td>f9698246-3e79-489c-a7f9-d1fbd85f5bc3</td>\n",
       "    </tr>\n",
       "    <tr>\n",
       "      <th>1</th>\n",
       "      <td>Ashoka_Kumar_Thakur_vs_Union_Of_India_And_Ors_...</td>\n",
       "      <td>2</td>\n",
       "      <td>951eb96d-6348-4532-9812-033910bdf5de</td>\n",
       "    </tr>\n",
       "    <tr>\n",
       "      <th>2</th>\n",
       "      <td>Ashoka_Kumar_Thakur_vs_Union_Of_India_And_Ors_...</td>\n",
       "      <td>3</td>\n",
       "      <td>7a1d2071-01f0-483b-afa0-f5c568adf031</td>\n",
       "    </tr>\n",
       "    <tr>\n",
       "      <th>3</th>\n",
       "      <td>Ashoka_Kumar_Thakur_vs_Union_Of_India_And_Ors_...</td>\n",
       "      <td>4</td>\n",
       "      <td>68856886-2e5e-49f3-97f7-13141f09db90</td>\n",
       "    </tr>\n",
       "    <tr>\n",
       "      <th>4</th>\n",
       "      <td>Ashoka_Kumar_Thakur_vs_Union_Of_India_And_Ors_...</td>\n",
       "      <td>5</td>\n",
       "      <td>0bbc9e3b-dd12-4b37-919b-4be69acec31d</td>\n",
       "    </tr>\n",
       "  </tbody>\n",
       "</table>\n",
       "</div>"
      ],
      "text/plain": [
       "                                            pdf_name page  \\\n",
       "0  Ashoka_Kumar_Thakur_vs_Union_Of_India_And_Ors_...    1   \n",
       "1  Ashoka_Kumar_Thakur_vs_Union_Of_India_And_Ors_...    2   \n",
       "2  Ashoka_Kumar_Thakur_vs_Union_Of_India_And_Ors_...    3   \n",
       "3  Ashoka_Kumar_Thakur_vs_Union_Of_India_And_Ors_...    4   \n",
       "4  Ashoka_Kumar_Thakur_vs_Union_Of_India_And_Ors_...    5   \n",
       "\n",
       "                                     id  \n",
       "0  f9698246-3e79-489c-a7f9-d1fbd85f5bc3  \n",
       "1  951eb96d-6348-4532-9812-033910bdf5de  \n",
       "2  7a1d2071-01f0-483b-afa0-f5c568adf031  \n",
       "3  68856886-2e5e-49f3-97f7-13141f09db90  \n",
       "4  0bbc9e3b-dd12-4b37-919b-4be69acec31d  "
      ]
     },
     "execution_count": 36,
     "metadata": {},
     "output_type": "execute_result"
    }
   ],
   "source": [
    "# Saving metadata info in csv\n",
    "import pandas as pd\n",
    "\n",
    "pdf_names = []\n",
    "pages = []\n",
    "doc_ids = []\n",
    "\n",
    "for doc in documents_with_metadata:\n",
    "    pdf_names.append(doc.metadata[\"pdf_name\"])\n",
    "    pages.append(doc.metadata[\"page\"])\n",
    "    doc_ids.append(doc.id_)\n",
    "\n",
    "# Create a DataFrame from the lists\n",
    "df = pd.DataFrame({\n",
    "    'pdf_name': pdf_names,\n",
    "    'page': pages,\n",
    "    'id': doc_ids\n",
    "})\n",
    "\n",
    "df.head()"
   ]
  },
  {
   "cell_type": "code",
   "execution_count": 39,
   "metadata": {},
   "outputs": [
    {
     "data": {
      "text/html": [
       "<div>\n",
       "<style scoped>\n",
       "    .dataframe tbody tr th:only-of-type {\n",
       "        vertical-align: middle;\n",
       "    }\n",
       "\n",
       "    .dataframe tbody tr th {\n",
       "        vertical-align: top;\n",
       "    }\n",
       "\n",
       "    .dataframe thead th {\n",
       "        text-align: right;\n",
       "    }\n",
       "</style>\n",
       "<table border=\"1\" class=\"dataframe\">\n",
       "  <thead>\n",
       "    <tr style=\"text-align: right;\">\n",
       "      <th></th>\n",
       "      <th>pdf_name</th>\n",
       "      <th>page</th>\n",
       "      <th>id</th>\n",
       "      <th>legible_name</th>\n",
       "    </tr>\n",
       "  </thead>\n",
       "  <tbody>\n",
       "    <tr>\n",
       "      <th>0</th>\n",
       "      <td>Ashoka_Kumar_Thakur_vs_Union_Of_India_And_Ors_...</td>\n",
       "      <td>1</td>\n",
       "      <td>f9698246-3e79-489c-a7f9-d1fbd85f5bc3</td>\n",
       "      <td>Ashoka Kumar Thakur vs Union Of India And Ors ...</td>\n",
       "    </tr>\n",
       "    <tr>\n",
       "      <th>1</th>\n",
       "      <td>Ashoka_Kumar_Thakur_vs_Union_Of_India_And_Ors_...</td>\n",
       "      <td>2</td>\n",
       "      <td>951eb96d-6348-4532-9812-033910bdf5de</td>\n",
       "      <td>Ashoka Kumar Thakur vs Union Of India And Ors ...</td>\n",
       "    </tr>\n",
       "    <tr>\n",
       "      <th>2</th>\n",
       "      <td>Ashoka_Kumar_Thakur_vs_Union_Of_India_And_Ors_...</td>\n",
       "      <td>3</td>\n",
       "      <td>7a1d2071-01f0-483b-afa0-f5c568adf031</td>\n",
       "      <td>Ashoka Kumar Thakur vs Union Of India And Ors ...</td>\n",
       "    </tr>\n",
       "    <tr>\n",
       "      <th>3</th>\n",
       "      <td>Ashoka_Kumar_Thakur_vs_Union_Of_India_And_Ors_...</td>\n",
       "      <td>4</td>\n",
       "      <td>68856886-2e5e-49f3-97f7-13141f09db90</td>\n",
       "      <td>Ashoka Kumar Thakur vs Union Of India And Ors ...</td>\n",
       "    </tr>\n",
       "    <tr>\n",
       "      <th>4</th>\n",
       "      <td>Ashoka_Kumar_Thakur_vs_Union_Of_India_And_Ors_...</td>\n",
       "      <td>5</td>\n",
       "      <td>0bbc9e3b-dd12-4b37-919b-4be69acec31d</td>\n",
       "      <td>Ashoka Kumar Thakur vs Union Of India And Ors ...</td>\n",
       "    </tr>\n",
       "  </tbody>\n",
       "</table>\n",
       "</div>"
      ],
      "text/plain": [
       "                                            pdf_name  page  \\\n",
       "0  Ashoka_Kumar_Thakur_vs_Union_Of_India_And_Ors_...     1   \n",
       "1  Ashoka_Kumar_Thakur_vs_Union_Of_India_And_Ors_...     2   \n",
       "2  Ashoka_Kumar_Thakur_vs_Union_Of_India_And_Ors_...     3   \n",
       "3  Ashoka_Kumar_Thakur_vs_Union_Of_India_And_Ors_...     4   \n",
       "4  Ashoka_Kumar_Thakur_vs_Union_Of_India_And_Ors_...     5   \n",
       "\n",
       "                                     id  \\\n",
       "0  f9698246-3e79-489c-a7f9-d1fbd85f5bc3   \n",
       "1  951eb96d-6348-4532-9812-033910bdf5de   \n",
       "2  7a1d2071-01f0-483b-afa0-f5c568adf031   \n",
       "3  68856886-2e5e-49f3-97f7-13141f09db90   \n",
       "4  0bbc9e3b-dd12-4b37-919b-4be69acec31d   \n",
       "\n",
       "                                        legible_name  \n",
       "0  Ashoka Kumar Thakur vs Union Of India And Ors ...  \n",
       "1  Ashoka Kumar Thakur vs Union Of India And Ors ...  \n",
       "2  Ashoka Kumar Thakur vs Union Of India And Ors ...  \n",
       "3  Ashoka Kumar Thakur vs Union Of India And Ors ...  \n",
       "4  Ashoka Kumar Thakur vs Union Of India And Ors ...  "
      ]
     },
     "execution_count": 39,
     "metadata": {},
     "output_type": "execute_result"
    }
   ],
   "source": [
    "df = pd.read_csv('metadata_doc4_gpt003s_0.csv')\n",
    "\n",
    "# Adding a new column 'legible_name' with '_' replaced by space in 'pdf_name'\n",
    "df['legible_name'] = df['pdf_name'].str.replace('_', ' ')\n",
    "\n",
    "df.head()"
   ]
  },
  {
   "cell_type": "code",
   "execution_count": 40,
   "metadata": {},
   "outputs": [],
   "source": [
    "# Convert the DataFrame to a CSV file\n",
    "csv_file_path = 'metadata_doc4_gpt003s_0.csv'\n",
    "df.to_csv(csv_file_path, index=False)"
   ]
  },
  {
   "cell_type": "code",
   "execution_count": 9,
   "metadata": {},
   "outputs": [
    {
     "data": {
      "text/plain": [
       "1320"
      ]
     },
     "execution_count": 9,
     "metadata": {},
     "output_type": "execute_result"
    }
   ],
   "source": [
    "len(documents_with_metadata)"
   ]
  },
  {
   "cell_type": "code",
   "execution_count": 35,
   "metadata": {},
   "outputs": [
    {
     "data": {
      "text/plain": [
       "'f9698246-3e79-489c-a7f9-d1fbd85f5bc3'"
      ]
     },
     "execution_count": 35,
     "metadata": {},
     "output_type": "execute_result"
    }
   ],
   "source": [
    "documents_with_metadata[0].id_"
   ]
  },
  {
   "cell_type": "code",
   "execution_count": 14,
   "metadata": {},
   "outputs": [
    {
     "data": {
      "text/plain": [
       "{'page': '1',\n",
       " 'pdf_name': 'Ashoka_Kumar_Thakur_vs_Union_Of_India_And_Ors_on_10_April_2008.PDF'}"
      ]
     },
     "execution_count": 14,
     "metadata": {},
     "output_type": "execute_result"
    }
   ],
   "source": [
    "documents_with_metadata[0].metadata"
   ]
  },
  {
   "cell_type": "markdown",
   "metadata": {},
   "source": [
    "### Chroma Database with metadata"
   ]
  },
  {
   "cell_type": "code",
   "execution_count": 12,
   "metadata": {},
   "outputs": [],
   "source": [
    "# import\n",
    "from llama_index.core import VectorStoreIndex, SimpleDirectoryReader\n",
    "from llama_index.vector_stores.chroma import ChromaVectorStore\n",
    "from llama_index.core import StorageContext\n",
    "from IPython.display import Markdown, display\n",
    "import chromadb"
   ]
  },
  {
   "cell_type": "code",
   "execution_count": 16,
   "metadata": {},
   "outputs": [],
   "source": [
    "# # Create to disk\n",
    "# db = chromadb.PersistentClient(path=\"./chroma_db_doc4_gpt003s_metadata_0\")\n",
    "# chroma_collection = db.get_or_create_collection(\"quickstart\")\n",
    "# vector_store = ChromaVectorStore(chroma_collection=chroma_collection)\n",
    "# storage_context = StorageContext.from_defaults(vector_store=vector_store)\n",
    "\n",
    "# index = VectorStoreIndex.from_documents(\n",
    "#     documents_with_metadata, storage_context=storage_context\n",
    "# )"
   ]
  },
  {
   "cell_type": "code",
   "execution_count": 17,
   "metadata": {},
   "outputs": [],
   "source": [
    "# load from disk\n",
    "db = chromadb.PersistentClient(path=\"./chroma_db_doc4_gpt003s_metadata_0\")\n",
    "chroma_collection = db.get_or_create_collection(\"quickstart\")\n",
    "vector_store = ChromaVectorStore(chroma_collection=chroma_collection)\n",
    "index = VectorStoreIndex.from_vector_store(\n",
    "    vector_store,\n",
    ")"
   ]
  },
  {
   "cell_type": "markdown",
   "metadata": {},
   "source": [
    "### Query without filtering"
   ]
  },
  {
   "cell_type": "code",
   "execution_count": 18,
   "metadata": {},
   "outputs": [],
   "source": [
    "# Converting the index to a query engine for retrieval\n",
    "query_engine = index.as_query_engine()"
   ]
  },
  {
   "cell_type": "code",
   "execution_count": 22,
   "metadata": {},
   "outputs": [],
   "source": [
    "# response = query_engine.query(\"Who was the judge in Ashoka Kumar Thakur case?\")\n",
    "response = query_engine.query(\"Which case is about women empowerment?\")"
   ]
  },
  {
   "cell_type": "code",
   "execution_count": 24,
   "metadata": {},
   "outputs": [
    {
     "data": {
      "text/plain": [
       "'The case about women empowerment is Shayara Bano vs Union Of India And Ors Ministry Of Women on 22 August 2017.'"
      ]
     },
     "execution_count": 24,
     "metadata": {},
     "output_type": "execute_result"
    }
   ],
   "source": [
    "response.response"
   ]
  },
  {
   "cell_type": "code",
   "execution_count": 25,
   "metadata": {},
   "outputs": [
    {
     "data": {
      "text/plain": [
       "{'page': '101',\n",
       " 'pdf_name': 'Shayara_Bano_vs_Union_Of_India_And_Ors_Ministry_Of_Women_on_22_August_2017.PDF'}"
      ]
     },
     "execution_count": 25,
     "metadata": {},
     "output_type": "execute_result"
    }
   ],
   "source": [
    "response.source_nodes[0].metadata"
   ]
  },
  {
   "cell_type": "markdown",
   "metadata": {},
   "source": [
    "### Query based filtering validation"
   ]
  },
  {
   "cell_type": "code",
   "execution_count": 26,
   "metadata": {},
   "outputs": [],
   "source": [
    "from llama_index.core.vector_stores.types import MetadataFilters, ExactMatchFilter\n",
    "\n",
    "filters = MetadataFilters(filters=[ExactMatchFilter(key=\"pdf_name\", value=\"Shayara_Bano_vs_Union_Of_India_And_Ors_Ministry_Of_Women_on_22_August_2017.PDF\")])\n",
    "query_engine = index.as_query_engine(filters=filters)\n",
    "response = query_engine.query(\"Which case is about women empowerment?\")"
   ]
  },
  {
   "cell_type": "code",
   "execution_count": 28,
   "metadata": {},
   "outputs": [
    {
     "data": {
      "text/plain": [
       "[NodeWithScore(node=TextNode(id_='eee037d9-7fdc-4902-bdc8-7f752a4c4c2d', embedding=None, metadata={'page': '101', 'pdf_name': 'Shayara_Bano_vs_Union_Of_India_And_Ors_Ministry_Of_Women_on_22_August_2017.PDF'}, excluded_embed_metadata_keys=[], excluded_llm_metadata_keys=[], relationships={<NodeRelationship.SOURCE: '1'>: RelatedNodeInfo(node_id='3c6cd441-457e-47d9-a85e-b018d2b95897', node_type=<ObjectType.DOCUMENT: '4'>, metadata={'page': '101', 'pdf_name': 'Shayara_Bano_vs_Union_Of_India_And_Ors_Ministry_Of_Women_on_22_August_2017.PDF'}, hash='bfe77d5f10c6ab63f27d3adf25d2cf89ffe0b3580ad19ea9ed240a229bc4ee4d'), <NodeRelationship.PREVIOUS: '2'>: RelatedNodeInfo(node_id='4a5af030-ab34-4dd6-8939-3ecaef4d5098', node_type=<ObjectType.TEXT: '1'>, metadata={'page': '100', 'pdf_name': 'Shayara_Bano_vs_Union_Of_India_And_Ors_Ministry_Of_Women_on_22_August_2017.PDF'}, hash='c6e45f98e1a653a7282f5243375e65d71c50a9606c64723e7122da692524af41'), <NodeRelationship.NEXT: '3'>: RelatedNodeInfo(node_id='63c52dba-caae-45cf-aeff-0cb4f4edc0f1', node_type=<ObjectType.TEXT: '1'>, metadata={}, hash='5f9c76f33ad5c40b92e805775d9328ee10ce3b8f77adaf2b31f446c5f85d1d55')}, text='wherein it was submitted, that this Court had emphasized on the value of\\ngender equality, and the need to discard patriarchal mindset. For arriving\\nat the above conclusion, it was submitted, that this Court had relied upon\\ninternational jurisprudence, to strike down a law which debarred women\\nfrom employment on the pretext that the object of the law was, to afford\\nthem protection. The Court held that “it is for the court to review that the\\nmajoritarian impulses rooted in moralistic tradition do not impinge upon\\nindividual autonomy (of the women)”.       The Court also quoted from a\\njudgment of the U.S. Supreme Court where discrimination was rationalized\\n“by an attitude of ‘romantic paternalism’ which, in practical effect, put\\nwomen, not on a pedestal, but in a cage…”. Reference was also made to\\nVishaka v. State of Rajasthan30, wherein, in the context of protection of\\nwomen against sexual harassment at the workplace, this Court underlined\\nthe right of women to a life with dignity. Additionally, our attention was\\ndrawn to the Charu Khurana case15, wherein it was concluded, that the\\n“sustenance of gender justice is the cultivated achievement of intrinsic\\nhuman rights and that there cannot be any discrimination solely on the\\nground of gender.”      The learned Attorney General also cited, Githa\\nHariharan v. Reserve Bank of India 31, wherein this Court had the occasion\\nto interpret the provisions of the Hindu Minority and Guardianship Act,\\n29\\n30\\n31\\n                                              110\\na956. It was submitted, that this Court in the above judgment emphasized\\nthe necessity to take measures to bring domestic law in line with\\ninternational conventions, so as to eradicate discrimination of all forms,Shayara Bano vs Union Of India And Ors. Ministry Of Women ... on 22 August, 2017\\nIndian Kanoon - http://indiankanoon.org/doc/115701246/ 101', start_char_idx=0, end_char_idx=1870, text_template='{metadata_str}\\n\\n{content}', metadata_template='{key}: {value}', metadata_seperator='\\n'), score=0.693503898929125),\n",
       " NodeWithScore(node=TextNode(id_='6062d8db-818c-4638-858b-7dd88e0cd4e5', embedding=None, metadata={'page': '99', 'pdf_name': 'Shayara_Bano_vs_Union_Of_India_And_Ors_Ministry_Of_Women_on_22_August_2017.PDF'}, excluded_embed_metadata_keys=[], excluded_llm_metadata_keys=[], relationships={<NodeRelationship.SOURCE: '1'>: RelatedNodeInfo(node_id='2f9e69c8-3d77-4a27-9cdf-34158ba85220', node_type=<ObjectType.DOCUMENT: '4'>, metadata={'page': '99', 'pdf_name': 'Shayara_Bano_vs_Union_Of_India_And_Ors_Ministry_Of_Women_on_22_August_2017.PDF'}, hash='303e6ca0dfad5bfc083fb3149ae47e1af816956bb87d843983917e28eb3c65de'), <NodeRelationship.PREVIOUS: '2'>: RelatedNodeInfo(node_id='7b384165-6088-49c1-b355-3901d33740dc', node_type=<ObjectType.TEXT: '1'>, metadata={'page': '98', 'pdf_name': 'Shayara_Bano_vs_Union_Of_India_And_Ors_Ministry_Of_Women_on_22_August_2017.PDF'}, hash='2b9e4d1c6733b234468351d5e4b29160403a484a3b19a887ed29d9cfe259ed3d'), <NodeRelationship.NEXT: '3'>: RelatedNodeInfo(node_id='4a5af030-ab34-4dd6-8939-3ecaef4d5098', node_type=<ObjectType.TEXT: '1'>, metadata={}, hash='75338a4345ead78a137839264beea7a0993577687ecd96cba7d782ac369a0eaf')}, text='women;”\\n                                                107\\n\\x0cIt was accordingly asserted, that Muslim women could not be subjected to\\narbitrary and unilateral whims of their husbands, as in the case of divorce\\nby triple talaq amongst Shia Muslims belonging to the Hanafi school.\\n64.       It was submitted, that gender equality and the dignity of women,\\nwere non-negotiable. These rights were necessary, not only to realize the\\naspirations of every individual woman, who is an equal citizen of this\\ncountry, but also, for the larger well being of society and the progress of the\\nnation, one half of which is made up by women. It was submitted, that\\nwomen deserved to be equal participants in the development and\\nadvancement of the world’s largest democracy, and any practice which\\ndenudes the status of an inhabitant of India, merely by virtue of the religion\\nhe/she happens to profess, must be considered as an impediment to that\\nlarger goal. In this behalf, reliance was placed on C. Masilamani Mudaliar\\nv. Idol of Sri Swaminathaswami Thirukoil 28, wherein a 3-Judge Bench of\\nthis Court observed as under:\\n     “15. It is seen that if after the Constitution came into force, the right to\\n     equality and dignity of person enshrined in the Preamble of the\\n     Constitution, Fundamental Rights and Directive Principles which are a\\n     trinity intended to remove discrimination or disability on grounds only of\\n     social status or gender, removed the pre-existing impediments that stood\\n     in the way of female or weaker segments of the society. In S.R.\\n     Bommai v. Union of India [(1994) 3 SCC 1] this Court held that the\\n     Preamble is part of the basic structure of the Constitution. Handicaps\\n28\\n                                                 108\\n\\x0cshould be removed only under rule of law to enliven the trinity of justice,Shayara Bano vs Union Of India And Ors. Ministry Of Women ... on 22 August, 2017\\nIndian Kanoon - http://indiankanoon.org/doc/115701246/ 99', start_char_idx=3, end_char_idx=1982, text_template='{metadata_str}\\n\\n{content}', metadata_template='{key}: {value}', metadata_seperator='\\n'), score=0.6826973033146132)]"
      ]
     },
     "execution_count": 28,
     "metadata": {},
     "output_type": "execute_result"
    }
   ],
   "source": [
    "response.source_nodes"
   ]
  },
  {
   "cell_type": "code",
   "execution_count": 29,
   "metadata": {},
   "outputs": [],
   "source": [
    "from llama_index.core.vector_stores.types import MetadataFilters, ExactMatchFilter\n",
    "\n",
    "filters = MetadataFilters(filters=[ExactMatchFilter(key=\"pdf_name\", value=\"Shayara_Bano_vs_Union_Of_India_An21d_Ors_Ministry_Of_Women_on_22_August_2017.PDF\")])\n",
    "query_engine = index.as_query_engine(filters=filters)\n",
    "response = query_engine.query(\"Which case is about women empowerment?\")"
   ]
  },
  {
   "cell_type": "code",
   "execution_count": 30,
   "metadata": {},
   "outputs": [
    {
     "data": {
      "text/plain": [
       "Response(response='Empty Response', source_nodes=[], metadata=None)"
      ]
     },
     "execution_count": 30,
     "metadata": {},
     "output_type": "execute_result"
    }
   ],
   "source": [
    "response"
   ]
  }
 ],
 "metadata": {
  "kernelspec": {
   "display_name": "envlegalv1",
   "language": "python",
   "name": "python3"
  },
  "language_info": {
   "codemirror_mode": {
    "name": "ipython",
    "version": 3
   },
   "file_extension": ".py",
   "mimetype": "text/x-python",
   "name": "python",
   "nbconvert_exporter": "python",
   "pygments_lexer": "ipython3",
   "version": "3.10.12"
  }
 },
 "nbformat": 4,
 "nbformat_minor": 2
}
