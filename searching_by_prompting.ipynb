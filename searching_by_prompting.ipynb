{
 "cells": [
  {
   "cell_type": "markdown",
   "metadata": {},
   "source": [
    "### Load dependencies and vector DB"
   ]
  },
  {
   "cell_type": "code",
   "execution_count": 3,
   "metadata": {},
   "outputs": [
    {
     "data": {
      "text/plain": [
       "True"
      ]
     },
     "execution_count": 3,
     "metadata": {},
     "output_type": "execute_result"
    }
   ],
   "source": [
    "from llama_index.core import VectorStoreIndex, SimpleDirectoryReader\n",
    "from llama_index.vector_stores.chroma import ChromaVectorStore\n",
    "from llama_index.core import StorageContext\n",
    "from llama_index.embeddings.openai import OpenAIEmbedding\n",
    "from llama_index.core import Settings\n",
    "import chromadb\n",
    "import openai\n",
    "import os\n",
    "import utils\n",
    "from dotenv import load_dotenv\n",
    "\n",
    "\n",
    "load_dotenv()  # take environment variables from .env."
   ]
  },
  {
   "cell_type": "code",
   "execution_count": 1,
   "metadata": {},
   "outputs": [],
   "source": [
    "# import\n",
    "from llama_index.core import VectorStoreIndex, SimpleDirectoryReader\n",
    "from llama_index.vector_stores.chroma import ChromaVectorStore\n",
    "from llama_index.core import StorageContext\n",
    "from IPython.display import Markdown, display\n",
    "import chromadb"
   ]
  },
  {
   "cell_type": "code",
   "execution_count": 4,
   "metadata": {},
   "outputs": [],
   "source": [
    "# load from disk\n",
    "db = chromadb.PersistentClient(path=\"./chroma_db_doc4_gpt003s_metadata_0\")\n",
    "chroma_collection = db.get_or_create_collection(\"quickstart\")\n",
    "vector_store = ChromaVectorStore(chroma_collection=chroma_collection)\n",
    "index = VectorStoreIndex.from_vector_store(\n",
    "    vector_store,\n",
    ")"
   ]
  },
  {
   "cell_type": "markdown",
   "metadata": {},
   "source": [
    "### Querying relevant chunks, no LLM"
   ]
  },
  {
   "cell_type": "code",
   "execution_count": 5,
   "metadata": {},
   "outputs": [],
   "source": [
    "from llama_index.core import VectorStoreIndex, get_response_synthesizer\n",
    "from llama_index.core.retrievers import VectorIndexRetriever\n",
    "from llama_index.core.query_engine import RetrieverQueryEngine\n",
    "from llama_index.core.postprocessor import SimilarityPostprocessor"
   ]
  },
  {
   "cell_type": "code",
   "execution_count": 64,
   "metadata": {},
   "outputs": [],
   "source": [
    "# configure retriever\n",
    "retriever = VectorIndexRetriever(\n",
    "    index=index,\n",
    "    similarity_top_k=10,\n",
    "    # similarity_cutoff=0.5\n",
    ")"
   ]
  },
  {
   "cell_type": "code",
   "execution_count": 65,
   "metadata": {},
   "outputs": [],
   "source": [
    "query_engine = RetrieverQueryEngine.from_args(\n",
    "    retriever, response_mode=\"no_text\"\n",
    ")"
   ]
  },
  {
   "cell_type": "code",
   "execution_count": 46,
   "metadata": {},
   "outputs": [],
   "source": [
    "response = query_engine.query(\"Shayar Bano\")"
   ]
  },
  {
   "cell_type": "code",
   "execution_count": 47,
   "metadata": {},
   "outputs": [
    {
     "data": {
      "text/plain": [
       "Response(response='', source_nodes=[NodeWithScore(node=TextNode(id_='45c8bbb7-bfab-4503-94fc-ca507ea1b019', embedding=None, metadata={'page': '89', 'pdf_name': 'Shayara_Bano_vs_Union_Of_India_And_Ors_Ministry_Of_Women_on_22_August_2017.PDF'}, excluded_embed_metadata_keys=[], excluded_llm_metadata_keys=[], relationships={<NodeRelationship.SOURCE: '1'>: RelatedNodeInfo(node_id='ea52c431-14ef-4136-9044-0c41c108b71e', node_type=<ObjectType.DOCUMENT: '4'>, metadata={'page': '89', 'pdf_name': 'Shayara_Bano_vs_Union_Of_India_And_Ors_Ministry_Of_Women_on_22_August_2017.PDF'}, hash='5292eb7d953b9797be4067f5f47626261bdcc793769a95655a40ef00d6bfb7de'), <NodeRelationship.PREVIOUS: '2'>: RelatedNodeInfo(node_id='1473b562-e499-47fe-80e6-4b468fb3ec87', node_type=<ObjectType.TEXT: '1'>, metadata={'page': '89', 'pdf_name': 'Shayara_Bano_vs_Union_Of_India_And_Ors_Ministry_Of_Women_on_22_August_2017.PDF'}, hash='82a66ae27b7e287e964fa8caf16da40e3c12d34be40de9753d09ba306877adce'), <NodeRelationship.NEXT: '3'>: RelatedNodeInfo(node_id='74b68522-f313-46e0-8144-bb205617b6fa', node_type=<ObjectType.TEXT: '1'>, metadata={}, hash='311a8f0183525bb524061f9f26e061edf6bc3bb5af66e84dde3cc4b131393e8c')}, text='x. [2006] 44 – (…) Jâbir bin ‘Abdullâh said: “In the Khutbah of the\\n     Prophet on Friday, he would praise Allah, then he would say other\\n     things, raising his voice…” a similar Hadith (as no.2005).\\n     xi. [4796] 59 – (1852) It was narrated that Ziyâd bin ‘Ilâqah said: “I heard\\n     ‘Arfajah say: ‘I heard the Messenger of Allah say: “There will be Fitnah\\n     and innovations. Whoever wants to divide this Ummah when it isShayara Bano vs Union Of India And Ors. Ministry Of Women ... on 22 August, 2017\\nIndian Kanoon - http://indiankanoon.org/doc/115701246/ 89', start_char_idx=3081, end_char_idx=3649, text_template='{metadata_str}\\n\\n{content}', metadata_template='{key}: {value}', metadata_seperator='\\n'), score=0.738628084412438), NodeWithScore(node=TextNode(id_='c63d0812-a284-46d8-a3d3-3291e619efbc', embedding=None, metadata={'page': '264', 'pdf_name': 'Shayara_Bano_vs_Union_Of_India_And_Ors_Ministry_Of_Women_on_22_August_2017.PDF'}, excluded_embed_metadata_keys=[], excluded_llm_metadata_keys=[], relationships={<NodeRelationship.SOURCE: '1'>: RelatedNodeInfo(node_id='bb0f57b8-a205-4cef-8c1e-0e921b433661', node_type=<ObjectType.DOCUMENT: '4'>, metadata={'page': '264', 'pdf_name': 'Shayara_Bano_vs_Union_Of_India_And_Ors_Ministry_Of_Women_on_22_August_2017.PDF'}, hash='1d60bd55f0f4f0522699fe49e3d0b97d8acb43083f97ec82e1f79b380fc7e05f'), <NodeRelationship.PREVIOUS: '2'>: RelatedNodeInfo(node_id='ba4b6467-db14-44ea-8ff7-29e70df432ba', node_type=<ObjectType.TEXT: '1'>, metadata={'page': '263', 'pdf_name': 'Shayara_Bano_vs_Union_Of_India_And_Ors_Ministry_Of_Women_on_22_August_2017.PDF'}, hash='84db3e085bf0d8f7815896b5de2a865e3bbde8743065479ae89e3ba1a8d962fd'), <NodeRelationship.NEXT: '3'>: RelatedNodeInfo(node_id='e6f8619c-7687-4690-8e66-19ea6ec0723f', node_type=<ObjectType.TEXT: '1'>, metadata={}, hash='f400f7cc95c2cf8e1fc3656d1eddaedfebfeb32dabcc5b634d1b818b6cd058bf')}, text='2. Thus when they fulfill Their term appointed, Either take them back On equitable\\nterms Or part with them On equitable terms;\\nAnd take for witness Two persons from among you, Endued with justice, And establish the evidence\\n(As) before God. Such Is the admonition given To him who believes In God and the Last Day.\\nAnd for those who fear God, He (ever) prepares A way out,\\n3. And He provides for him From (sources) he never Could imagine. And if Any one puts his trust In\\nGod, sufficient is (God) For him. For God will Surely accomplish His purpose :\\nVerily, for all things Has God appointed A due proportion.\\n4. Such of your women As have passed the age Of monthly courses, for them The prescribed period,\\nif ye Have any doubts, is Three months, and for those Who have no courses (It is the same):\\nFor those who carry (Life within their wombs), Their period is until They deliver their\\nburdens :\\nAnd for those who Fear God, He will Make their path easy.\\n5. That is the Command Of God, which He Has sent down to you :\\nAnd if any one fears God, He will remove his ills From him, and will enlarge His\\nreward.\\n6. Let the women live (In ‚iddat) in the same Style as ye live, According to your means :\\nAnnoy them not, so as To restrict them.\\nAnd if they carry (life In their wombs), then Spend (your substance) on them Until\\nthey deliver Their burden : and if They suckle your (offspring), Give them their\\nrecompense :\\nAnd take mutual counsel Together, according to What is just and reasonable.\\nAnd if ye find yourselves In difficulties, let another Woman suckle (the child) On the\\n(father□s) behalf.\\n7. Let the man of means Spend according to His means : and the man Whose resources are\\nrestricted, Let him spend according To what God has given him.\\nGod puts no burden On any person beyond What He has given him.Shayara Bano vs Union Of India And Ors. Ministry Of Women ... on 22 August, 2017\\nIndian Kanoon - http://indiankanoon.org/doc/115701246/ 264', start_char_idx=0, end_char_idx=1947, text_template='{metadata_str}\\n\\n{content}', metadata_template='{key}: {value}', metadata_seperator='\\n'), score=0.7378863604759546)], metadata={'45c8bbb7-bfab-4503-94fc-ca507ea1b019': {'page': '89', 'pdf_name': 'Shayara_Bano_vs_Union_Of_India_And_Ors_Ministry_Of_Women_on_22_August_2017.PDF'}, 'c63d0812-a284-46d8-a3d3-3291e619efbc': {'page': '264', 'pdf_name': 'Shayara_Bano_vs_Union_Of_India_And_Ors_Ministry_Of_Women_on_22_August_2017.PDF'}})"
      ]
     },
     "execution_count": 47,
     "metadata": {},
     "output_type": "execute_result"
    }
   ],
   "source": [
    "response"
   ]
  },
  {
   "cell_type": "code",
   "execution_count": 48,
   "metadata": {},
   "outputs": [
    {
     "name": "stdout",
     "output_type": "stream",
     "text": [
      "None\n"
     ]
    }
   ],
   "source": [
    "print(response)"
   ]
  },
  {
   "cell_type": "code",
   "execution_count": 49,
   "metadata": {},
   "outputs": [
    {
     "data": {
      "text/plain": [
       "2"
      ]
     },
     "execution_count": 49,
     "metadata": {},
     "output_type": "execute_result"
    }
   ],
   "source": [
    "len(response.source_nodes)"
   ]
  },
  {
   "cell_type": "code",
   "execution_count": 50,
   "metadata": {},
   "outputs": [
    {
     "data": {
      "text/plain": [
       "{'page': '264',\n",
       " 'pdf_name': 'Shayara_Bano_vs_Union_Of_India_And_Ors_Ministry_Of_Women_on_22_August_2017.PDF'}"
      ]
     },
     "execution_count": 50,
     "metadata": {},
     "output_type": "execute_result"
    }
   ],
   "source": [
    "response.source_nodes[1].metadata"
   ]
  },
  {
   "cell_type": "code",
   "execution_count": 51,
   "metadata": {},
   "outputs": [
    {
     "name": "stdout",
     "output_type": "stream",
     "text": [
      "0.738628084412438\n",
      "0.7378863604759546\n"
     ]
    }
   ],
   "source": [
    "for source in response.source_nodes:\n",
    "    print(source.get_score())"
   ]
  },
  {
   "cell_type": "markdown",
   "metadata": {},
   "source": [
    "### Using node postprocessor"
   ]
  },
  {
   "cell_type": "code",
   "execution_count": 78,
   "metadata": {},
   "outputs": [],
   "source": [
    "# configure retriever\n",
    "retriever = VectorIndexRetriever(\n",
    "    index=index,\n",
    "    similarity_top_k=15,\n",
    "    # similarity_cutoff=0.5\n",
    ")\n",
    "\n",
    "node_postprocessors = [\n",
    "    SimilarityPostprocessor(similarity_cutoff=0.723)\n",
    "]\n",
    "query_engine = RetrieverQueryEngine.from_args(\n",
    "    retriever, node_postprocessors=node_postprocessors, response_mode=\"no_text\"\n",
    ")"
   ]
  },
  {
   "cell_type": "code",
   "execution_count": 79,
   "metadata": {},
   "outputs": [],
   "source": [
    "response = query_engine.query(\"Shayar Bano\")"
   ]
  },
  {
   "cell_type": "code",
   "execution_count": 80,
   "metadata": {},
   "outputs": [
    {
     "data": {
      "text/plain": [
       "''"
      ]
     },
     "execution_count": 80,
     "metadata": {},
     "output_type": "execute_result"
    }
   ],
   "source": [
    "response.response"
   ]
  },
  {
   "cell_type": "code",
   "execution_count": 81,
   "metadata": {},
   "outputs": [
    {
     "name": "stdout",
     "output_type": "stream",
     "text": [
      "0.738628084412438\n",
      "0.7378863604759546\n",
      "0.7369401788640427\n",
      "0.7349465743157214\n",
      "0.7309524604962911\n",
      "0.7304007647599736\n",
      "0.7257818212905375\n",
      "0.7246978470131182\n",
      "0.7246138585072711\n",
      "0.724517269723903\n",
      "0.7232953567428053\n"
     ]
    }
   ],
   "source": [
    "for source in response.source_nodes:\n",
    "    print(source.get_score())"
   ]
  },
  {
   "cell_type": "code",
   "execution_count": 85,
   "metadata": {},
   "outputs": [
    {
     "data": {
      "text/plain": [
       "'Shayara_Bano_vs_Union_Of_India_And_Ors_Ministry_Of_Women_on_22_August_2017.PDF'"
      ]
     },
     "execution_count": 85,
     "metadata": {},
     "output_type": "execute_result"
    }
   ],
   "source": [
    "response.source_nodes[0].metadata['pdf_name']"
   ]
  },
  {
   "cell_type": "code",
   "execution_count": 86,
   "metadata": {},
   "outputs": [],
   "source": [
    "response = query_engine.query(\"Case\")"
   ]
  },
  {
   "cell_type": "code",
   "execution_count": 89,
   "metadata": {},
   "outputs": [
    {
     "data": {
      "text/plain": [
       "Response(response='Empty Response', source_nodes=[], metadata=None)"
      ]
     },
     "execution_count": 89,
     "metadata": {},
     "output_type": "execute_result"
    }
   ],
   "source": [
    "response"
   ]
  },
  {
   "cell_type": "code",
   "execution_count": 88,
   "metadata": {},
   "outputs": [],
   "source": [
    "for source in response.source_nodes:\n",
    "    print(source.get_score())"
   ]
  },
  {
   "cell_type": "code",
   "execution_count": null,
   "metadata": {},
   "outputs": [],
   "source": []
  }
 ],
 "metadata": {
  "kernelspec": {
   "display_name": "envlegal2",
   "language": "python",
   "name": "python3"
  },
  "language_info": {
   "codemirror_mode": {
    "name": "ipython",
    "version": 3
   },
   "file_extension": ".py",
   "mimetype": "text/x-python",
   "name": "python",
   "nbconvert_exporter": "python",
   "pygments_lexer": "ipython3",
   "version": "3.10.12"
  }
 },
 "nbformat": 4,
 "nbformat_minor": 2
}
