{
 "cells": [
  {
   "cell_type": "code",
   "execution_count": 1,
   "metadata": {},
   "outputs": [
    {
     "data": {
      "text/plain": [
       "True"
      ]
     },
     "execution_count": 1,
     "metadata": {},
     "output_type": "execute_result"
    }
   ],
   "source": [
    "from llama_index.core import VectorStoreIndex, SimpleDirectoryReader\n",
    "from llama_index.vector_stores.chroma import ChromaVectorStore\n",
    "from llama_index.core import StorageContext\n",
    "from llama_index.embeddings.openai import OpenAIEmbedding\n",
    "from llama_index.core import Settings\n",
    "import chromadb\n",
    "import openai\n",
    "import os\n",
    "import utils\n",
    "from dotenv import load_dotenv\n",
    "\n",
    "\n",
    "load_dotenv()  # take environment variables from .env."
   ]
  },
  {
   "cell_type": "code",
   "execution_count": 2,
   "metadata": {},
   "outputs": [],
   "source": [
    "import tiktoken\n",
    "from llama_index.core.callbacks import CallbackManager, TokenCountingHandler\n",
    "from llama_index.llms.openai import OpenAI\n",
    "from llama_index.core import Settings\n",
    "\n",
    "\n",
    "token_counter = TokenCountingHandler(\n",
    "    tokenizer=tiktoken.encoding_for_model(\"gpt-3.5-turbo\").encode\n",
    ")\n",
    "\n",
    "Settings.callback_manager = CallbackManager([token_counter])"
   ]
  },
  {
   "cell_type": "code",
   "execution_count": 3,
   "metadata": {},
   "outputs": [],
   "source": [
    "documents = SimpleDirectoryReader(input_files=[\"./documents_4_v0/Shayara_Bano_vs_Union_Of_India_And_Ors_Ministry_Of_Women_on_22_August_2017.PDF\"]).load_data()"
   ]
  },
  {
   "cell_type": "code",
   "execution_count": 4,
   "metadata": {},
   "outputs": [
    {
     "name": "stdout",
     "output_type": "stream",
     "text": [
      "Shayara Bano vs Union Of India And Ors. Ministry Of Women ...\n",
      "on 22 August, 2017\n",
      "Equivalent citations: AIR 2017 SUPREME COURT 4609, AIR 2018 SC (CIVIL)\n",
      "1169, (2017) 179 ALLINDCAS 104 (SC), (2017) 179 ALLINDCAS 104, (2017) 2\n",
      "MARRILJ 247, 2017 (3) CRIMES 281 LN, (2017) 3 CURCC 82, 2017 (3) KCCR\n",
      "SN 254 (SC), (2017) 3 KER LJ 16, 2017 (3) KLT SN 87 (SC), (2017) 4 CAL HN\n",
      "60, (2017) 4 JCR 69 (SC), (2017) 5 ALL WC 4353, (2017) 5 BOM CR 481, (2017)\n",
      "6 MAD LJ 378, 2017 (9) ADJ 1 NOC, (2017) 9 SCALE 178, 2017 (9) SCC 1,\n",
      "(2018) 1 JCR 108 (SC), 242 (2017) DLT 1 (CN)(SC), AIR 2018 SC (CIV) 1169\n",
      "Author: Jagdish Singh Khehar\n",
      "Bench: S. Abdul Nazeer, Uday Umesh Lalit, Rohinton Fali Nariman, Kurian\n",
      "Joseph, Jagdish Singh Khehar\n",
      "                                                                        Reportable\n",
      "                                     IN THE SUPREME COURT OF INDIA\n",
      "                                          Original Civil Jurisdiction\n",
      "                                       Writ Petition (C) No. 118 of 2016\n",
      "                  Shayara Bano                                   … Petitioner\n",
      "                                                    versus\n",
      "                  Union of India and others                      … Respondents\n",
      "                                                     with\n",
      "                                       Suo Motu Writ (C) No. 2 of 2015\n",
      "                  In Re: Muslim Women’s Quest For Equality\n",
      "                                                    versus\n",
      "                  Jamiat Ulma-I-Hind\n",
      "                                       Writ Petition(C) No. 288 of 2016\n",
      "                  Aafreen Rehman                                   … Petitioner\n",
      "                                                    versus\n",
      "                  Union of India and others                        … Respondents\n",
      "                                       Writ Petition(C) No. 327 of 2016\n",
      "                  Gulshan Parveen                                  … Petitioner\n",
      "                                                    versus\n",
      "                  Union of India and others                        … RespondentsShayara Bano vs Union Of India And Ors. Ministry Of Women ... on 22 August, 2017\n",
      "Indian Kanoon - http://indiankanoon.org/doc/115701246/ 1\n"
     ]
    }
   ],
   "source": [
    "print(documents[0].text)"
   ]
  },
  {
   "cell_type": "code",
   "execution_count": 5,
   "metadata": {},
   "outputs": [],
   "source": [
    "index = VectorStoreIndex.from_documents(documents)"
   ]
  },
  {
   "cell_type": "code",
   "execution_count": 6,
   "metadata": {},
   "outputs": [
    {
     "name": "stdout",
     "output_type": "stream",
     "text": [
      "206772\n"
     ]
    }
   ],
   "source": [
    "print(token_counter.total_embedding_token_count)"
   ]
  },
  {
   "cell_type": "code",
   "execution_count": 7,
   "metadata": {},
   "outputs": [],
   "source": [
    "token_counter.reset_counts()"
   ]
  },
  {
   "cell_type": "code",
   "execution_count": 8,
   "metadata": {},
   "outputs": [],
   "source": [
    "query_engine = index.as_query_engine()\n",
    "# query_engine=index.as_query_engine(similarity_top_k=10)"
   ]
  },
  {
   "cell_type": "markdown",
   "metadata": {},
   "source": [
    "### Getting Legal Issues"
   ]
  },
  {
   "cell_type": "code",
   "execution_count": 26,
   "metadata": {},
   "outputs": [
    {
     "name": "stdout",
     "output_type": "stream",
     "text": [
      "The legal issue in the case revolves around the intersection of personal laws based on religious beliefs and practices with the concept of a uniform civil code. The debate primarily focuses on whether personal laws, deeply rooted in religious traditions such as Hindu and Islamic laws, should be subject to uniformity or whether they should be allowed to continue as they are, specific to each community.\n",
      "\n",
      "The proponents of maintaining personal laws argue that these laws are intertwined with religious beliefs and practices, and any attempt to regiment them under a uniform civil code could lead to discontent and disharmony among different sections of society. They contend that allowing each community to follow its own personal laws would prevent conflicts and dissatisfaction.\n",
      "\n",
      "On the other hand, there are voices advocating for a uniform civil code that would apply uniformly to all citizens, irrespective of their religious affiliations. They argue that certain personal laws may clash with fundamental rights guaranteed under the constitution, such as the freedom of conscience and the right to freely profess and practice religion. They highlight the need to prevent anomalies that may arise from the coexistence of personal laws and constitutional provisions.\n",
      "\n",
      "The legal issue also delves into the distinction between laws considered of divine origin, such as Hindu and Islamic laws, and man-made laws. The debate questions whether personal laws based on religious scriptures should be exempt from uniformity or whether they should be subject to the same legal framework as man-made laws. The discussion extends to the role of religious customs, traditions, and scriptures in shaping legal principles and societal norms.\n",
      "\n",
      "Furthermore, the legal issue touches upon the concept of law as a reflection of a society's ethos and values. It explores how legal systems, particularly those deeply connected to religious beliefs like Islamic law, play a crucial role in defining the civilization, social history, and political structure of a community. The debate underscores the significance of understanding and appreciating the legal systems in order to comprehend the broader context of a society's development and identity.\n",
      "\n",
      "In conclusion, the legal issue in the case of Shayara Bano vs. Union of India and Others Ministry of Women revolves around the tension between personal laws rooted in religious traditions and the potential implementation of a uniform civil code. The debate encompasses concerns regarding fundamental rights, religious freedoms, societal harmony, and the essence of legal systems in reflecting the values and ethos of a community. It raises complex questions about the coexistence of personal laws and constitutional provisions, highlighting the need for a nuanced approach to balancing religious beliefs with legal uniformity in a diverse and pluralistic society.\n"
     ]
    }
   ],
   "source": [
    "response = query_engine.query(\"What is the legal issue in case, write at least 1000 words?\")\n",
    "print(response)"
   ]
  },
  {
   "cell_type": "code",
   "execution_count": 27,
   "metadata": {},
   "outputs": [
    {
     "name": "stdout",
     "output_type": "stream",
     "text": [
      "Embedding Tokens:  16 \n",
      " LLM Prompt Tokens:  1873 \n",
      " LLM Completion Tokens:  496 \n",
      " Total LLM Token Count:  2369 \n",
      "\n"
     ]
    }
   ],
   "source": [
    "print(\n",
    "    \"Embedding Tokens: \",\n",
    "    token_counter.total_embedding_token_count,\n",
    "    \"\\n\",\n",
    "    \"LLM Prompt Tokens: \",\n",
    "    token_counter.prompt_llm_token_count,\n",
    "    \"\\n\",\n",
    "    \"LLM Completion Tokens: \",\n",
    "    token_counter.completion_llm_token_count,\n",
    "    \"\\n\",\n",
    "    \"Total LLM Token Count: \",\n",
    "    token_counter.total_llm_token_count,\n",
    "    \"\\n\",\n",
    ")"
   ]
  },
  {
   "cell_type": "code",
   "execution_count": 12,
   "metadata": {},
   "outputs": [],
   "source": [
    "token_counter.reset_counts()"
   ]
  },
  {
   "cell_type": "code",
   "execution_count": 34,
   "metadata": {},
   "outputs": [
    {
     "name": "stdout",
     "output_type": "stream",
     "text": [
      "The legal issue in the case revolves around the conflict between personal laws and statutory laws in the Indian context. It was argued that personal laws, which are based on religious practices and faith, are subservient to legislation. However, in the absence of specific statutory laws, personal laws are considered mandatory and are upheld as an individual's right to practice their faith. The contention was that personal laws cannot be challenged under Articles 14, 15, and 21 of the Constitution unless there is a specific statutory law in place. The case also delves into the concept of the rule of law and how the absence of a law to apply to a case can lead to violations of constitutional principles, particularly Article 14 which guarantees equality before the law. The discussion highlights the importance of having laws that are not arbitrary and ensure that government powers are conditioned by law, emphasizing the significance of legal frameworks in upholding individual rights and preventing arbitrary exercises of authority.\n"
     ]
    }
   ],
   "source": [
    "response = query_engine.query(\"What is the legal issue in case, explain in detail\")\n",
    "print(response)"
   ]
  },
  {
   "cell_type": "code",
   "execution_count": 35,
   "metadata": {},
   "outputs": [
    {
     "name": "stdout",
     "output_type": "stream",
     "text": [
      "The legal issue in the case revolves around the conflict between personal laws and statutory laws in the Indian context. It was argued that personal laws, which are based on religious practices and faith, are subservient to legislation. However, in the absence of specific statutory laws, personal laws are considered mandatory and are upheld as an individual's right to practice their faith. The contention was that personal laws cannot be challenged under Articles 14, 15, and 21 of the Constitution unless there is a specific statutory law in place. The case also delves into the concept of the rule of law and how the absence of a law to apply to a case can lead to violations of constitutional principles, particularly Article 14 which guarantees equality before the law. The discussion highlights the importance of having laws that are not arbitrary and ensure that government powers are conditioned by law, emphasizing the significance of legal frameworks in upholding individual rights and preventing arbitrary exercises of authority.\n"
     ]
    }
   ],
   "source": [
    "print(response.response)"
   ]
  },
  {
   "cell_type": "code",
   "execution_count": 36,
   "metadata": {},
   "outputs": [
    {
     "name": "stdout",
     "output_type": "stream",
     "text": [
      "Embedding Tokens:  11 \n",
      " LLM Prompt Tokens:  1503 \n",
      " LLM Completion Tokens:  189 \n",
      " Total LLM Token Count:  1692 \n",
      "\n"
     ]
    }
   ],
   "source": [
    "print(\n",
    "    \"Embedding Tokens: \",\n",
    "    token_counter.total_embedding_token_count,\n",
    "    \"\\n\",\n",
    "    \"LLM Prompt Tokens: \",\n",
    "    token_counter.prompt_llm_token_count,\n",
    "    \"\\n\",\n",
    "    \"LLM Completion Tokens: \",\n",
    "    token_counter.completion_llm_token_count,\n",
    "    \"\\n\",\n",
    "    \"Total LLM Token Count: \",\n",
    "    token_counter.total_llm_token_count,\n",
    "    \"\\n\",\n",
    ")"
   ]
  },
  {
   "cell_type": "code",
   "execution_count": 9,
   "metadata": {},
   "outputs": [],
   "source": [
    "token_counter.reset_counts()"
   ]
  },
  {
   "cell_type": "markdown",
   "metadata": {},
   "source": [
    "### Facts of Case"
   ]
  },
  {
   "cell_type": "code",
   "execution_count": 41,
   "metadata": {},
   "outputs": [
    {
     "name": "stdout",
     "output_type": "stream",
     "text": [
      "1. The All India Muslim Personal Law Board issued an affidavit in response to the Writ Petitions, stating that they would advise individuals performing 'Nikah' (marriage) to avoid pronouncing three divorces in one sitting and to include a condition in the 'Nikahnama' to prevent such pronouncements.\n",
      "2. The Board had passed resolutions emphasizing the need to avoid pronouncing three divorces in one sitting, which were conveyed as a code of conduct/guidelines for divorce matters in the Muslim community.\n",
      "3. The Board contended that social reforms related to 'personal law' should originate from within the community itself, asserting that courts should not interfere in such matters.\n",
      "4. The case involved discussions on the applicability of Articles 14, 15, and 21 of the Constitution to matters of 'personal law' and the role of the State in relation to these fundamental rights.\n",
      "5. Reference was made to a previous court decision regarding the challenge of a statutory enactment, the Muslim Women (Protection of Rights on Divorce) Act, 1986, and the complexities surrounding the review of Muslim personal law by the courts.\n",
      "6. The judgment highlighted the importance of Article 14 of the Constitution, emphasizing equality before the law and the equal protection of the law, and discussed the concept of classification under this Article.\n",
      "7. The court deliberated on the rule of law and the positive aspect of Article 14, noting that arbitrary and unreasonable actions could be struck down under this provision if found to be in violation of equal protection of the law.\n"
     ]
    }
   ],
   "source": [
    "response = query_engine.query(\"What are the facts of the case?, write pointwise\")\n",
    "print(response)"
   ]
  },
  {
   "cell_type": "code",
   "execution_count": 42,
   "metadata": {},
   "outputs": [
    {
     "name": "stdout",
     "output_type": "stream",
     "text": [
      "Embedding Tokens:  11 \n",
      " LLM Prompt Tokens:  1844 \n",
      " LLM Completion Tokens:  316 \n",
      " Total LLM Token Count:  2160 \n",
      "\n"
     ]
    }
   ],
   "source": [
    "print(\n",
    "    \"Embedding Tokens: \",\n",
    "    token_counter.total_embedding_token_count,\n",
    "    \"\\n\",\n",
    "    \"LLM Prompt Tokens: \",\n",
    "    token_counter.prompt_llm_token_count,\n",
    "    \"\\n\",\n",
    "    \"LLM Completion Tokens: \",\n",
    "    token_counter.completion_llm_token_count,\n",
    "    \"\\n\",\n",
    "    \"Total LLM Token Count: \",\n",
    "    token_counter.total_llm_token_count,\n",
    "    \"\\n\",\n",
    ")"
   ]
  },
  {
   "cell_type": "code",
   "execution_count": 49,
   "metadata": {},
   "outputs": [],
   "source": [
    "# query_engine=index.as_query_engine(similarity_top_k=10) # removed top 10 due to large tokens"
   ]
  },
  {
   "cell_type": "code",
   "execution_count": 46,
   "metadata": {},
   "outputs": [
    {
     "name": "stdout",
     "output_type": "stream",
     "text": [
      "1. The case involves a challenge to certain practices under personal law, specifically related to marriage and divorce within the Muslim community.\n",
      "2. The All India Muslim Personal Law Board advised against the practice of pronouncing three divorces in one sitting during 'Nikah' ceremonies.\n",
      "3. Resolutions were passed by the Board to discourage the pronouncement of three divorces in one sitting and to provide guidelines for divorce proceedings within the Muslim community.\n",
      "4. Fundamental rights, particularly Article 14 of the Constitution, which ensures equality before the law and protection of the law, are central to the case.\n",
      "5. The case discusses legal principles and judgments concerning arbitrariness, discrimination, and the constitutional validity of laws.\n",
      "6. The Court emphasizes the importance of fairness, reasonableness, non-discrimination, and transparency in State actions, especially in matters affecting personal rights and fundamental freedoms.\n"
     ]
    }
   ],
   "source": [
    "response = query_engine.query(\"What are the facts of the case?, write pointwise\")\n",
    "print(response)"
   ]
  },
  {
   "cell_type": "code",
   "execution_count": 47,
   "metadata": {},
   "outputs": [
    {
     "name": "stdout",
     "output_type": "stream",
     "text": [
      "Embedding Tokens:  11 \n",
      " LLM Prompt Tokens:  9898 \n",
      " LLM Completion Tokens:  722 \n",
      " Total LLM Token Count:  10620 \n",
      "\n"
     ]
    }
   ],
   "source": [
    "print(\n",
    "    \"Embedding Tokens: \",\n",
    "    token_counter.total_embedding_token_count,\n",
    "    \"\\n\",\n",
    "    \"LLM Prompt Tokens: \",\n",
    "    token_counter.prompt_llm_token_count,\n",
    "    \"\\n\",\n",
    "    \"LLM Completion Tokens: \",\n",
    "    token_counter.completion_llm_token_count,\n",
    "    \"\\n\",\n",
    "    \"Total LLM Token Count: \",\n",
    "    token_counter.total_llm_token_count,\n",
    "    \"\\n\",\n",
    ")"
   ]
  },
  {
   "cell_type": "markdown",
   "metadata": {},
   "source": [
    "### Arguments of Case"
   ]
  },
  {
   "cell_type": "code",
   "execution_count": 10,
   "metadata": {},
   "outputs": [
    {
     "name": "stdout",
     "output_type": "stream",
     "text": [
      "1. The State action must be tested for constitutional infirmities under Article 14 of the Constitution, ensuring fairness, reasonableness, non-discrimination, transparency, lack of capriciousness, absence of bias, nepotism, promotion of healthy competition, and equitable treatment.\n",
      "2. Legislation can be struck down if found to be arbitrary, unfair, unreasonable, discriminatory, non-transparent, capricious, biased, showing favoritism or nepotism, and not in the pursuit of promoting healthy competition and equitable treatment.\n",
      "3. The case discussed challenges to Section 6-A of the Delhi Special Police Establishment Act, 1946, which was ultimately struck down for being discriminatory and violating Article 14.\n",
      "4. The judgments referred to emphasize the principles of equality and non-discrimination under Article 14, highlighting the importance of fairness, reason, public interest, and adherence to rational norms in State actions and legislation.\n"
     ]
    }
   ],
   "source": [
    "response = query_engine.query(\"What are the arguments in the case?, write pointwise\")\n",
    "print(response)"
   ]
  },
  {
   "cell_type": "code",
   "execution_count": 11,
   "metadata": {},
   "outputs": [
    {
     "name": "stdout",
     "output_type": "stream",
     "text": [
      "Embedding Tokens:  11 \n",
      " LLM Prompt Tokens:  1959 \n",
      " LLM Completion Tokens:  187 \n",
      " Total LLM Token Count:  2146 \n",
      "\n"
     ]
    }
   ],
   "source": [
    "print(\n",
    "    \"Embedding Tokens: \",\n",
    "    token_counter.total_embedding_token_count,\n",
    "    \"\\n\",\n",
    "    \"LLM Prompt Tokens: \",\n",
    "    token_counter.prompt_llm_token_count,\n",
    "    \"\\n\",\n",
    "    \"LLM Completion Tokens: \",\n",
    "    token_counter.completion_llm_token_count,\n",
    "    \"\\n\",\n",
    "    \"Total LLM Token Count: \",\n",
    "    token_counter.total_llm_token_count,\n",
    "    \"\\n\",\n",
    ")"
   ]
  },
  {
   "cell_type": "code",
   "execution_count": 13,
   "metadata": {},
   "outputs": [],
   "source": [
    "query_engine=index.as_query_engine(similarity_top_k=10) # removed top 10 due to large tokens"
   ]
  },
  {
   "cell_type": "code",
   "execution_count": 14,
   "metadata": {},
   "outputs": [
    {
     "name": "stdout",
     "output_type": "stream",
     "text": [
      "1. Legislation can be invalidated if it is deemed arbitrary under Article 14 of the Constitution.\n",
      "2. State actions must adhere to principles of fairness, reasonableness, non-discrimination, transparency, and impartiality, promoting fair competition and equal treatment.\n",
      "3. Any constitutional flaws in legislation must be pinpointed, and if they are evidently arbitrary, Article 14 will prohibit such flaws.\n",
      "4. The case involved a challenge to Section 6-A of the Delhi Special Police Establishment Act, 1946, which was ultimately deemed discriminatory and in violation of Article 14.\n",
      "5. The judgment underscored the significance of equality and the prevention of discrimination as fundamental principles outlined in Articles 14 and 16.\n",
      "6. The discussion revolved around the concept of equality before the law and equal protection of the law, stressing the necessity of reasonable and non-arbitrary State actions.\n",
      "7. The arguments also addressed the role of the courts in ensuring that legislative or executive actions are not arbitrary and do not violate the guarantee of equality under Article 14.\n"
     ]
    }
   ],
   "source": [
    "response = query_engine.query(\"What are the arguments in the case?, write pointwise\")\n",
    "print(response)"
   ]
  },
  {
   "cell_type": "code",
   "execution_count": 15,
   "metadata": {},
   "outputs": [
    {
     "name": "stdout",
     "output_type": "stream",
     "text": [
      "Embedding Tokens:  11 \n",
      " LLM Prompt Tokens:  10784 \n",
      " LLM Completion Tokens:  863 \n",
      " Total LLM Token Count:  11647 \n",
      "\n"
     ]
    }
   ],
   "source": [
    "print(\n",
    "    \"Embedding Tokens: \",\n",
    "    token_counter.total_embedding_token_count,\n",
    "    \"\\n\",\n",
    "    \"LLM Prompt Tokens: \",\n",
    "    token_counter.prompt_llm_token_count,\n",
    "    \"\\n\",\n",
    "    \"LLM Completion Tokens: \",\n",
    "    token_counter.completion_llm_token_count,\n",
    "    \"\\n\",\n",
    "    \"Total LLM Token Count: \",\n",
    "    token_counter.total_llm_token_count,\n",
    "    \"\\n\",\n",
    ")"
   ]
  },
  {
   "cell_type": "markdown",
   "metadata": {},
   "source": [
    "### Getting Bench"
   ]
  },
  {
   "cell_type": "code",
   "execution_count": 16,
   "metadata": {},
   "outputs": [],
   "source": [
    "token_counter.reset_counts()"
   ]
  },
  {
   "cell_type": "code",
   "execution_count": 17,
   "metadata": {},
   "outputs": [],
   "source": [
    "query_engine=index.as_query_engine()"
   ]
  },
  {
   "cell_type": "code",
   "execution_count": 18,
   "metadata": {},
   "outputs": [
    {
     "name": "stdout",
     "output_type": "stream",
     "text": [
      "The judges in the bench are not explicitly mentioned in the provided context information.\n"
     ]
    }
   ],
   "source": [
    "response = query_engine.query(\"What are the name of judges in the bench\")\n",
    "print(response)"
   ]
  },
  {
   "cell_type": "code",
   "execution_count": 22,
   "metadata": {},
   "outputs": [
    {
     "name": "stdout",
     "output_type": "stream",
     "text": [
      "Shayara Bano\n"
     ]
    }
   ],
   "source": [
    "response = query_engine.query(\"What is name of the accussed in case?\")\n",
    "print(response)"
   ]
  },
  {
   "cell_type": "code",
   "execution_count": 21,
   "metadata": {},
   "outputs": [
    {
     "data": {
      "text/plain": [
       "[NodeWithScore(node=TextNode(id_='55fb5747-697d-403a-ad04-0cde123a57a8', embedding=None, metadata={'page_label': '104', 'file_name': 'Shayara_Bano_vs_Union_Of_India_And_Ors_Ministry_Of_Women_on_22_August_2017.PDF', 'file_path': 'documents_4_v0/Shayara_Bano_vs_Union_Of_India_And_Ors_Ministry_Of_Women_on_22_August_2017.PDF', 'file_type': 'application/pdf', 'file_size': 870518, 'creation_date': '2024-03-11', 'last_modified_date': '2024-02-27'}, excluded_embed_metadata_keys=['file_name', 'file_type', 'file_size', 'creation_date', 'last_modified_date', 'last_accessed_date'], excluded_llm_metadata_keys=['file_name', 'file_type', 'file_size', 'creation_date', 'last_modified_date', 'last_accessed_date'], relationships={<NodeRelationship.SOURCE: '1'>: RelatedNodeInfo(node_id='da7d05cd-00b6-4e19-a3de-1265026e0c19', node_type=<ObjectType.DOCUMENT: '4'>, metadata={'page_label': '104', 'file_name': 'Shayara_Bano_vs_Union_Of_India_And_Ors_Ministry_Of_Women_on_22_August_2017.PDF', 'file_path': 'documents_4_v0/Shayara_Bano_vs_Union_Of_India_And_Ors_Ministry_Of_Women_on_22_August_2017.PDF', 'file_type': 'application/pdf', 'file_size': 870518, 'creation_date': '2024-03-11', 'last_modified_date': '2024-02-27'}, hash='9d20ed29fb8e76ee2449b567a4dda05d22aa29de298b26ba74672d365fe3e3b2'), <NodeRelationship.PREVIOUS: '2'>: RelatedNodeInfo(node_id='d35c048c-76c4-4774-882f-55a7ffe483d2', node_type=<ObjectType.TEXT: '1'>, metadata={'page_label': '103', 'file_name': 'Shayara_Bano_vs_Union_Of_India_And_Ors_Ministry_Of_Women_on_22_August_2017.PDF', 'file_path': 'documents_4_v0/Shayara_Bano_vs_Union_Of_India_And_Ors_Ministry_Of_Women_on_22_August_2017.PDF', 'file_type': 'application/pdf', 'file_size': 870518, 'creation_date': '2024-03-11', 'last_modified_date': '2024-02-27'}, hash='d0fbc84a28f3c01839401299c921a087bccecde30653c530bb8dcf9d9a656737'), <NodeRelationship.NEXT: '3'>: RelatedNodeInfo(node_id='942fe4bc-e771-4007-bfa1-91cd884f8f2f', node_type=<ObjectType.TEXT: '1'>, metadata={}, hash='bb4c63427be65381edc4dd191a485bff1a426ca3075b4122852e8707689b651e')}, text='steering the law between the dangers of rigidity and formlessness in the\\n  seemless web of life. Judge must be a jurist endowed with the legislator\\'s\\n  wisdom, historian\\'s search for truth, prophet\\'s vision, capacity to\\n  respond to the needs of the present, resilience to cope with the demands\\n  of the future to decide objectively, disengaging himself/herself from every\\n  personal influence or predilections. The Judges should adapt purposive\\n  interpretation of the dynamic concepts under the Constitution and the\\n  act with its interpretive armoury to articulate the felt necessities of the\\n  time. Social legislation is not a document for fastidious dialects but\\n  means of ordering the life of the people. To construe law one must enter\\n  into its spirit, its setting and history. Law should be capable to expand\\n  freedom of the people and the legal order can weigh with utmost equal\\n  care to provide the underpinning of the highly inequitable social order.\\n  Judicial review must be exercised with insight into social values to\\n  supplement the changing social needs. The existing social inequalities or\\n  imbalances are required to be removed readjusting the social order\\n  through rule of law.…”\\nThe learned Attorney General then submitted, that in paragraph 20 of the\\nValsamma Paul case20, it was noted, that various Hindu practices which\\nwere not in tune with the times, had been done away with, in the interest of\\npromoting equality and fraternity. In paragraph 21 of the above judgment,\\nthis Court had emphasized the need to divorce religion from ‘personal law’.\\nAnd in paragraph 22, a mention was made about the need to foster a\\nnational identity, which would not deny pluralism of Indian culture, but\\nwould rather preserve it. Relevant extracts of the aforesaid judgment relied\\nupon during the course of hearing, are reproduced herein below:\\n                                              113\\n\\x0c  “21. The Constitution through its Preamble, Fundamental Rights and\\n  Directive Principles created secular State based on the principle of\\n  equality and non-discrimination striking a balance between the rights of\\n  the individuals and the duty and commitment of the State to establish\\n  an egalitarian social order. Dr. K.M. Munshi contended on the floor of\\n  the Constituent Assembly that \"we want to divorce religion from personal\\n  law, from what may be called social relations, or from the rights of\\n  parties as regards inheritance or succession. What have these things got\\n  to do with religion, I fail to understand? We are in a stage where we must\\n  unify and consolidate the nation by every means without interfering with\\n  religious practices. If, however, in the past, religious practices have been\\n  so construed as to cover the whole field of life, we have reached a point\\n  when we must put our foot down and say that these matters are not\\n  religion, they are purely matters for secular legislation. Religion must be\\n  restricted to spheres which legitimately appertain to religion, and the\\n  rest of life must be regulated, unified and modified in such a mannerShayara Bano vs Union Of India And Ors. Ministry Of Women ... on 22 August, 2017\\nIndian Kanoon - http://indiankanoon.org/doc/115701246/ 104', start_char_idx=2, end_char_idx=3231, text_template='{metadata_str}\\n\\n{content}', metadata_template='{key}: {value}', metadata_seperator='\\n'), score=0.7993931060274164),\n",
       " NodeWithScore(node=TextNode(id_='2c6d27cc-aac6-446a-9cb0-dc52a029fb11', embedding=None, metadata={'page_label': '222', 'file_name': 'Shayara_Bano_vs_Union_Of_India_And_Ors_Ministry_Of_Women_on_22_August_2017.PDF', 'file_path': 'documents_4_v0/Shayara_Bano_vs_Union_Of_India_And_Ors_Ministry_Of_Women_on_22_August_2017.PDF', 'file_type': 'application/pdf', 'file_size': 870518, 'creation_date': '2024-03-11', 'last_modified_date': '2024-02-27'}, excluded_embed_metadata_keys=['file_name', 'file_type', 'file_size', 'creation_date', 'last_modified_date', 'last_accessed_date'], excluded_llm_metadata_keys=['file_name', 'file_type', 'file_size', 'creation_date', 'last_modified_date', 'last_accessed_date'], relationships={<NodeRelationship.SOURCE: '1'>: RelatedNodeInfo(node_id='1f2420e4-9004-47de-8857-6283b7fc4cd2', node_type=<ObjectType.DOCUMENT: '4'>, metadata={'page_label': '222', 'file_name': 'Shayara_Bano_vs_Union_Of_India_And_Ors_Ministry_Of_Women_on_22_August_2017.PDF', 'file_path': 'documents_4_v0/Shayara_Bano_vs_Union_Of_India_And_Ors_Ministry_Of_Women_on_22_August_2017.PDF', 'file_type': 'application/pdf', 'file_size': 870518, 'creation_date': '2024-03-11', 'last_modified_date': '2024-02-27'}, hash='d37091840018a1451473b9322ef2d90411c7e235715fd726572b607c4f5b7932'), <NodeRelationship.PREVIOUS: '2'>: RelatedNodeInfo(node_id='7433d711-2bed-4c8b-9e90-dcea78c81780', node_type=<ObjectType.TEXT: '1'>, metadata={'page_label': '221', 'file_name': 'Shayara_Bano_vs_Union_Of_India_And_Ors_Ministry_Of_Women_on_22_August_2017.PDF', 'file_path': 'documents_4_v0/Shayara_Bano_vs_Union_Of_India_And_Ors_Ministry_Of_Women_on_22_August_2017.PDF', 'file_type': 'application/pdf', 'file_size': 870518, 'creation_date': '2024-03-11', 'last_modified_date': '2024-02-27'}, hash='8697548057b58bb8bd7407be5b98a8edf30693009a33580d89f42b66c2ee0c15'), <NodeRelationship.NEXT: '3'>: RelatedNodeInfo(node_id='65b725e2-2734-43a3-b7b4-bbf5e8f1e969', node_type=<ObjectType.TEXT: '1'>, metadata={}, hash='01dc21788140e009b16ceba13742bc77d61527ac10052df51105ac05bdb77c7b')}, text=\"Bommai v. Union of India (1994) 3 SCC 1) and egalitarian social order is\\nits foundation. Unless free mobility of the people is allowed transcending\\nsectional, caste, religious or regional barriers, establishment of secular\\nsocialist order becomes difficult. In State of Karnataka v. Appa Balu\\nIngale [1995 Supp (4) SCC 469] this Court has held in para 34 that\\njudiciary acts as a bastion of the freedom and of the rights of the people.\\nThe Judges are participants in the living stream of national life, steering\\nthe law between the dangers of rigidity and formlessness in the seamless\\nweb of life. A Judge must be a jurist endowed with the legislator's\\nwisdom, historian's search for truth, prophet's vision, capacity to\\nrespond to the needs of the present, resilience to cope with the demands\\nof the future to decide objectively, disengaging himself/herself from every\\npersonal influence or predilections. The Judges should adapt purposive\\ninterpretation of the dynamic concepts under the Constitution and the\\nAct with its interpretative armoury to articulate the felt necessities of the\\ntime. Social legislation is not a document for fastidious dialects but\\nmeans of ordering the life of the people. To construe law one must enter\\ninto its spirit, its setting and history. Law should be capable to expand\\nfreedom of the people and the legal order can weigh with utmost equal\\ncare to provide the underpinning of the highly inequitable social order.\\nJudicial review must be exercised with insight into social values to\\nsupplement the changing social needs. The existing social inequalities or\\nimbalances are required to be removed readjusting the social order\\nthrough rule of law. In that case, the need for protection of right to take\\nwater, under the Civil Rights Protection Act, and the necessity to uphold\\nthe constitutional mandate of abolishing untouchability and its practice\\nin any form was emphasised.\\n               xxx                     xxx                      xxx\\n21. The Constitution through its Preamble, Fundamental Rights and\\nDirective Principles created a secular State based on the principle of\\nequality and non-discrimination, striking a balance between the rights of\\nthe individuals and the duty and commitment of the State to establish an\\negalitarian social order. Dr K.M. Munshi contended on the floor of the\\nConstituent Assembly that “we want to divorce religion from personal\\n                                             240\\n\\x0c  law, from what may be called social relations, or from the rights of\\n  parties as regards inheritance or succession. What have these things got\\n  to do with religion, I fail to understand? We are in a stage where we must\\n  unify and consolidate the nation by every means without interfering with\\n  religious practices. If, however, in the past, religious practices have been\\n  so construed as to cover the whole field of life, we have reached a point\\n  when we must put our foot down and say that these matters are not\\n  religion, they are purely matters for secular legislation. Religion must be\\n  restricted to spheres which legitimately appertain to religion, and the rest\\n  of life must be regulated, unified and modified in such a manner that we\\n  may evolve, as early as possible, a strong and consolidated nation” [Vide:\\n  Constituent Assembly Debates, Vol. VII, pp. 356-58].\\n                xxx                       xxx                     xxx\\n  26. Human rights are derived from the dignity and worth inherent in the\\n  human person. Human rights and fundamental freedoms have been\\n  reiterated in the Universal Declaration of Human Rights. Democracy,\\n  development and respect for human rights and fundamental freedomsShayara Bano vs Union Of India And Ors. Ministry Of Women ... on 22 August, 2017\\nIndian Kanoon - http://indiankanoon.org/doc/115701246/ 222\", start_char_idx=0, end_char_idx=3822, text_template='{metadata_str}\\n\\n{content}', metadata_template='{key}: {value}', metadata_seperator='\\n'), score=0.7966196863262189)]"
      ]
     },
     "execution_count": 21,
     "metadata": {},
     "output_type": "execute_result"
    }
   ],
   "source": [
    "response.source_nodes"
   ]
  },
  {
   "cell_type": "code",
   "execution_count": 19,
   "metadata": {},
   "outputs": [
    {
     "name": "stdout",
     "output_type": "stream",
     "text": [
      "Embedding Tokens:  9 \n",
      " LLM Prompt Tokens:  1739 \n",
      " LLM Completion Tokens:  15 \n",
      " Total LLM Token Count:  1754 \n",
      "\n"
     ]
    }
   ],
   "source": [
    "print(\n",
    "    \"Embedding Tokens: \",\n",
    "    token_counter.total_embedding_token_count,\n",
    "    \"\\n\",\n",
    "    \"LLM Prompt Tokens: \",\n",
    "    token_counter.prompt_llm_token_count,\n",
    "    \"\\n\",\n",
    "    \"LLM Completion Tokens: \",\n",
    "    token_counter.completion_llm_token_count,\n",
    "    \"\\n\",\n",
    "    \"Total LLM Token Count: \",\n",
    "    token_counter.total_llm_token_count,\n",
    "    \"\\n\",\n",
    ")"
   ]
  },
  {
   "cell_type": "code",
   "execution_count": 23,
   "metadata": {},
   "outputs": [
    {
     "name": "stdout",
     "output_type": "stream",
     "text": [
      "Shayara Bano vs Union Of India And Ors. Ministry Of Women ...\n",
      "on 22 August, 2017\n",
      "Equivalent citations: AIR 2017 SUPREME COURT 4609, AIR 2018 SC (CIVIL)\n",
      "1169, (2017) 179 ALLINDCAS 104 (SC), (2017) 179 ALLINDCAS 104, (2017) 2\n",
      "MARRILJ 247, 2017 (3) CRIMES 281 LN, (2017) 3 CURCC 82, 2017 (3) KCCR\n",
      "SN 254 (SC), (2017) 3 KER LJ 16, 2017 (3) KLT SN 87 (SC), (2017) 4 CAL HN\n",
      "60, (2017) 4 JCR 69 (SC), (2017) 5 ALL WC 4353, (2017) 5 BOM CR 481, (2017)\n",
      "6 MAD LJ 378, 2017 (9) ADJ 1 NOC, (2017) 9 SCALE 178, 2017 (9) SCC 1,\n",
      "(2018) 1 JCR 108 (SC), 242 (2017) DLT 1 (CN)(SC), AIR 2018 SC (CIV) 1169\n",
      "Author: Jagdish Singh Khehar\n",
      "Bench: S. Abdul Nazeer, Uday Umesh Lalit, Rohinton Fali Nariman, Kurian\n",
      "Joseph, Jagdish Singh Khehar\n",
      "                                                                        Reportable\n",
      "                                     IN THE SUPREME COURT OF INDIA\n",
      "                                          Original Civil Jurisdiction\n",
      "                                       Writ Petition (C) No. 118 of 2016\n",
      "                  Shayara Bano                                   … Petitioner\n",
      "                                                    versus\n",
      "                  Union of India and others                      … Respondents\n",
      "                                                     with\n",
      "                                       Suo Motu Writ (C) No. 2 of 2015\n",
      "                  In Re: Muslim Women’s Quest For Equality\n",
      "                                                    versus\n",
      "                  Jamiat Ulma-I-Hind\n",
      "                                       Writ Petition(C) No. 288 of 2016\n",
      "                  Aafreen Rehman                                   … Petitioner\n",
      "                                                    versus\n",
      "                  Union of India and others                        … Respondents\n",
      "                                       Writ Petition(C) No. 327 of 2016\n",
      "                  Gulshan Parveen                                  … Petitioner\n",
      "                                                    versus\n",
      "                  Union of India and others                        … RespondentsShayara Bano vs Union Of India And Ors. Ministry Of Women ... on 22 August, 2017\n",
      "Indian Kanoon - http://indiankanoon.org/doc/115701246/ 1\n"
     ]
    }
   ],
   "source": [
    "print(documents[0].text)"
   ]
  },
  {
   "cell_type": "code",
   "execution_count": 24,
   "metadata": {},
   "outputs": [
    {
     "data": {
      "text/plain": [
       "{'page_label': '1',\n",
       " 'file_name': 'Shayara_Bano_vs_Union_Of_India_And_Ors_Ministry_Of_Women_on_22_August_2017.PDF',\n",
       " 'file_path': 'documents_4_v0/Shayara_Bano_vs_Union_Of_India_And_Ors_Ministry_Of_Women_on_22_August_2017.PDF',\n",
       " 'file_type': 'application/pdf',\n",
       " 'file_size': 870518,\n",
       " 'creation_date': '2024-03-11',\n",
       " 'last_modified_date': '2024-02-27'}"
      ]
     },
     "execution_count": 24,
     "metadata": {},
     "output_type": "execute_result"
    }
   ],
   "source": [
    "documents[0].metadata"
   ]
  },
  {
   "cell_type": "code",
   "execution_count": 49,
   "metadata": {},
   "outputs": [],
   "source": [
    "user_prompt = \"\\n In the above text, write the names of judges sitting in the bench on this case. Answer should only contain name of Judges\"\n",
    "gpt_prompt = documents[0].text + documents[1].text + user_prompt\n",
    "\n",
    "import os\n",
    "from openai import OpenAI\n",
    "\n",
    "client = OpenAI(\n",
    "    # This is the default and can be omitted\n",
    "    api_key=os.environ.get(\"OPENAI_API_KEY\"),\n",
    ")\n",
    "\n",
    "chat_completion = client.chat.completions.create(\n",
    "    messages=[\n",
    "        {\n",
    "            \"role\": \"user\",\n",
    "            \"content\": gpt_prompt,\n",
    "        }\n",
    "    ],\n",
    "    model=\"gpt-3.5-turbo\",\n",
    ")"
   ]
  },
  {
   "cell_type": "code",
   "execution_count": 50,
   "metadata": {},
   "outputs": [
    {
     "name": "stdout",
     "output_type": "stream",
     "text": [
      "1. S. Abdul Nazeer\n",
      "2. Uday Umesh Lalit\n",
      "3. Rohinton Fali Nariman\n",
      "4. Kurian Joseph\n",
      "5. Jagdish Singh Khehar\n"
     ]
    }
   ],
   "source": [
    "print(chat_completion.choices[0].message.content)"
   ]
  },
  {
   "cell_type": "code",
   "execution_count": 51,
   "metadata": {},
   "outputs": [
    {
     "data": {
      "text/plain": [
       "CompletionUsage(completion_tokens=41, prompt_tokens=1167, total_tokens=1208)"
      ]
     },
     "execution_count": 51,
     "metadata": {},
     "output_type": "execute_result"
    }
   ],
   "source": [
    "chat_completion.usage"
   ]
  },
  {
   "cell_type": "code",
   "execution_count": 46,
   "metadata": {},
   "outputs": [],
   "source": [
    "user_prompt = \"\\n In the above text, write the names of petitioner on this case. Answer should only contain petitioners\"\n",
    "gpt_prompt = documents[0].text + documents[1].text + user_prompt\n",
    "\n",
    "import os\n",
    "from openai import OpenAI\n",
    "\n",
    "client = OpenAI(\n",
    "    # This is the default and can be omitted\n",
    "    api_key=os.environ.get(\"OPENAI_API_KEY\"),\n",
    ")\n",
    "\n",
    "chat_completion = client.chat.completions.create(\n",
    "    messages=[\n",
    "        {\n",
    "            \"role\": \"user\",\n",
    "            \"content\": gpt_prompt,\n",
    "        }\n",
    "    ],\n",
    "    model=\"gpt-3.5-turbo\",\n",
    ")"
   ]
  },
  {
   "cell_type": "code",
   "execution_count": 47,
   "metadata": {},
   "outputs": [
    {
     "name": "stdout",
     "output_type": "stream",
     "text": [
      "1. Shayara Bano\n",
      "2. Aafreen Rehman\n",
      "3. Gulshan Parveen\n",
      "4. Ishrat Jahan\n",
      "5. Atiya Sabri\n"
     ]
    }
   ],
   "source": [
    "print(chat_completion.choices[0].message.content)"
   ]
  },
  {
   "cell_type": "code",
   "execution_count": 48,
   "metadata": {},
   "outputs": [
    {
     "data": {
      "text/plain": [
       "CompletionUsage(completion_tokens=37, prompt_tokens=1162, total_tokens=1199)"
      ]
     },
     "execution_count": 48,
     "metadata": {},
     "output_type": "execute_result"
    }
   ],
   "source": [
    "chat_completion.usage"
   ]
  },
  {
   "cell_type": "code",
   "execution_count": 41,
   "metadata": {},
   "outputs": [],
   "source": [
    "user_prompt = \"\\n In the above text, write the names of respondants on this case. Answer should only contain respondant\"\n",
    "gpt_prompt = documents[0].text + documents[1].text + user_prompt\n",
    "\n",
    "import os\n",
    "from openai import OpenAI\n",
    "\n",
    "client = OpenAI(\n",
    "    # This is the default and can be omitted\n",
    "    api_key=os.environ.get(\"OPENAI_API_KEY\"),\n",
    ")\n",
    "\n",
    "chat_completion = client.chat.completions.create(\n",
    "    messages=[\n",
    "        {\n",
    "            \"role\": \"user\",\n",
    "            \"content\": gpt_prompt,\n",
    "        }\n",
    "    ],\n",
    "    model=\"gpt-3.5-turbo\",\n",
    ")"
   ]
  },
  {
   "cell_type": "code",
   "execution_count": 42,
   "metadata": {},
   "outputs": [
    {
     "name": "stdout",
     "output_type": "stream",
     "text": [
      "Union of India and others\n"
     ]
    }
   ],
   "source": [
    "print(chat_completion.choices[0].message.content)"
   ]
  },
  {
   "cell_type": "code",
   "execution_count": 43,
   "metadata": {},
   "outputs": [
    {
     "data": {
      "text/plain": [
       "CompletionUsage(completion_tokens=5, prompt_tokens=1163, total_tokens=1168)"
      ]
     },
     "execution_count": 43,
     "metadata": {},
     "output_type": "execute_result"
    }
   ],
   "source": [
    "chat_completion.usage"
   ]
  },
  {
   "cell_type": "markdown",
   "metadata": {},
   "source": [
    "### Detail extraction from pipeline"
   ]
  },
  {
   "cell_type": "code",
   "execution_count": 63,
   "metadata": {},
   "outputs": [],
   "source": [
    "# import\n",
    "from llama_index.core import VectorStoreIndex, SimpleDirectoryReader\n",
    "from llama_index.vector_stores.chroma import ChromaVectorStore\n",
    "from llama_index.core import StorageContext\n",
    "from IPython.display import Markdown, display\n",
    "import chromadb"
   ]
  },
  {
   "cell_type": "code",
   "execution_count": 69,
   "metadata": {},
   "outputs": [],
   "source": [
    "# load from disk\n",
    "db = chromadb.PersistentClient(path=\"./chroma_db_doc4_gpt003s_metadata_0\")\n",
    "chroma_collection = db.get_or_create_collection(\"quickstart\")\n",
    "vector_store = ChromaVectorStore(chroma_collection=chroma_collection)\n",
    "index = VectorStoreIndex.from_vector_store(\n",
    "    vector_store,\n",
    ")"
   ]
  },
  {
   "cell_type": "code",
   "execution_count": 81,
   "metadata": {},
   "outputs": [
    {
     "data": {
      "text/html": [
       "<div>\n",
       "<style scoped>\n",
       "    .dataframe tbody tr th:only-of-type {\n",
       "        vertical-align: middle;\n",
       "    }\n",
       "\n",
       "    .dataframe tbody tr th {\n",
       "        vertical-align: top;\n",
       "    }\n",
       "\n",
       "    .dataframe thead th {\n",
       "        text-align: right;\n",
       "    }\n",
       "</style>\n",
       "<table border=\"1\" class=\"dataframe\">\n",
       "  <thead>\n",
       "    <tr style=\"text-align: right;\">\n",
       "      <th></th>\n",
       "      <th>pdf_name</th>\n",
       "      <th>page</th>\n",
       "      <th>id</th>\n",
       "      <th>legible_name</th>\n",
       "    </tr>\n",
       "  </thead>\n",
       "  <tbody>\n",
       "    <tr>\n",
       "      <th>0</th>\n",
       "      <td>Ashoka_Kumar_Thakur_vs_Union_Of_India_And_Ors_...</td>\n",
       "      <td>1</td>\n",
       "      <td>f9698246-3e79-489c-a7f9-d1fbd85f5bc3</td>\n",
       "      <td>Ashoka Kumar Thakur vs Union Of India And Ors ...</td>\n",
       "    </tr>\n",
       "    <tr>\n",
       "      <th>1</th>\n",
       "      <td>Ashoka_Kumar_Thakur_vs_Union_Of_India_And_Ors_...</td>\n",
       "      <td>2</td>\n",
       "      <td>951eb96d-6348-4532-9812-033910bdf5de</td>\n",
       "      <td>Ashoka Kumar Thakur vs Union Of India And Ors ...</td>\n",
       "    </tr>\n",
       "    <tr>\n",
       "      <th>2</th>\n",
       "      <td>Ashoka_Kumar_Thakur_vs_Union_Of_India_And_Ors_...</td>\n",
       "      <td>3</td>\n",
       "      <td>7a1d2071-01f0-483b-afa0-f5c568adf031</td>\n",
       "      <td>Ashoka Kumar Thakur vs Union Of India And Ors ...</td>\n",
       "    </tr>\n",
       "    <tr>\n",
       "      <th>3</th>\n",
       "      <td>Ashoka_Kumar_Thakur_vs_Union_Of_India_And_Ors_...</td>\n",
       "      <td>4</td>\n",
       "      <td>68856886-2e5e-49f3-97f7-13141f09db90</td>\n",
       "      <td>Ashoka Kumar Thakur vs Union Of India And Ors ...</td>\n",
       "    </tr>\n",
       "    <tr>\n",
       "      <th>4</th>\n",
       "      <td>Ashoka_Kumar_Thakur_vs_Union_Of_India_And_Ors_...</td>\n",
       "      <td>5</td>\n",
       "      <td>0bbc9e3b-dd12-4b37-919b-4be69acec31d</td>\n",
       "      <td>Ashoka Kumar Thakur vs Union Of India And Ors ...</td>\n",
       "    </tr>\n",
       "  </tbody>\n",
       "</table>\n",
       "</div>"
      ],
      "text/plain": [
       "                                            pdf_name  page  \\\n",
       "0  Ashoka_Kumar_Thakur_vs_Union_Of_India_And_Ors_...     1   \n",
       "1  Ashoka_Kumar_Thakur_vs_Union_Of_India_And_Ors_...     2   \n",
       "2  Ashoka_Kumar_Thakur_vs_Union_Of_India_And_Ors_...     3   \n",
       "3  Ashoka_Kumar_Thakur_vs_Union_Of_India_And_Ors_...     4   \n",
       "4  Ashoka_Kumar_Thakur_vs_Union_Of_India_And_Ors_...     5   \n",
       "\n",
       "                                     id  \\\n",
       "0  f9698246-3e79-489c-a7f9-d1fbd85f5bc3   \n",
       "1  951eb96d-6348-4532-9812-033910bdf5de   \n",
       "2  7a1d2071-01f0-483b-afa0-f5c568adf031   \n",
       "3  68856886-2e5e-49f3-97f7-13141f09db90   \n",
       "4  0bbc9e3b-dd12-4b37-919b-4be69acec31d   \n",
       "\n",
       "                                        legible_name  \n",
       "0  Ashoka Kumar Thakur vs Union Of India And Ors ...  \n",
       "1  Ashoka Kumar Thakur vs Union Of India And Ors ...  \n",
       "2  Ashoka Kumar Thakur vs Union Of India And Ors ...  \n",
       "3  Ashoka Kumar Thakur vs Union Of India And Ors ...  \n",
       "4  Ashoka Kumar Thakur vs Union Of India And Ors ...  "
      ]
     },
     "execution_count": 81,
     "metadata": {},
     "output_type": "execute_result"
    }
   ],
   "source": [
    "import pandas as pd\n",
    "\n",
    "df = pd.read_csv(\"metadata_doc4_gpt003s_0.csv\")\n",
    "df.head()"
   ]
  },
  {
   "cell_type": "code",
   "execution_count": 85,
   "metadata": {},
   "outputs": [
    {
     "data": {
      "text/html": [
       "<div>\n",
       "<style scoped>\n",
       "    .dataframe tbody tr th:only-of-type {\n",
       "        vertical-align: middle;\n",
       "    }\n",
       "\n",
       "    .dataframe tbody tr th {\n",
       "        vertical-align: top;\n",
       "    }\n",
       "\n",
       "    .dataframe thead th {\n",
       "        text-align: right;\n",
       "    }\n",
       "</style>\n",
       "<table border=\"1\" class=\"dataframe\">\n",
       "  <thead>\n",
       "    <tr style=\"text-align: right;\">\n",
       "      <th></th>\n",
       "      <th>pdf_name</th>\n",
       "      <th>page</th>\n",
       "      <th>id</th>\n",
       "      <th>legible_name</th>\n",
       "    </tr>\n",
       "  </thead>\n",
       "  <tbody>\n",
       "    <tr>\n",
       "      <th>0</th>\n",
       "      <td>Ashoka_Kumar_Thakur_vs_Union_Of_India_And_Ors_...</td>\n",
       "      <td>1</td>\n",
       "      <td>f9698246-3e79-489c-a7f9-d1fbd85f5bc3</td>\n",
       "      <td>Ashoka Kumar Thakur vs Union Of India And Ors ...</td>\n",
       "    </tr>\n",
       "    <tr>\n",
       "      <th>88</th>\n",
       "      <td>Indian_Young_Lawyers_Association_vs_The_State_...</td>\n",
       "      <td>1</td>\n",
       "      <td>6fa9d76e-cc6b-4431-a2f4-80b40fb4009b</td>\n",
       "      <td>Indian Young Lawyers Association vs The State ...</td>\n",
       "    </tr>\n",
       "    <tr>\n",
       "      <th>287</th>\n",
       "      <td>Kesavananda_Bharati_Sripadagalvaru_vs_State_Of...</td>\n",
       "      <td>1</td>\n",
       "      <td>679ddb38-5f7a-43a4-9a15-d045060c4fe4</td>\n",
       "      <td>Kesavananda Bharati Sripadagalvaru vs State Of...</td>\n",
       "    </tr>\n",
       "    <tr>\n",
       "      <th>1008</th>\n",
       "      <td>Shayara_Bano_vs_Union_Of_India_And_Ors_Ministr...</td>\n",
       "      <td>1</td>\n",
       "      <td>3b96ae09-7b57-436d-8575-8b58a098b60d</td>\n",
       "      <td>Shayara Bano vs Union Of India And Ors Ministr...</td>\n",
       "    </tr>\n",
       "  </tbody>\n",
       "</table>\n",
       "</div>"
      ],
      "text/plain": [
       "                                               pdf_name  page  \\\n",
       "0     Ashoka_Kumar_Thakur_vs_Union_Of_India_And_Ors_...     1   \n",
       "88    Indian_Young_Lawyers_Association_vs_The_State_...     1   \n",
       "287   Kesavananda_Bharati_Sripadagalvaru_vs_State_Of...     1   \n",
       "1008  Shayara_Bano_vs_Union_Of_India_And_Ors_Ministr...     1   \n",
       "\n",
       "                                        id  \\\n",
       "0     f9698246-3e79-489c-a7f9-d1fbd85f5bc3   \n",
       "88    6fa9d76e-cc6b-4431-a2f4-80b40fb4009b   \n",
       "287   679ddb38-5f7a-43a4-9a15-d045060c4fe4   \n",
       "1008  3b96ae09-7b57-436d-8575-8b58a098b60d   \n",
       "\n",
       "                                           legible_name  \n",
       "0     Ashoka Kumar Thakur vs Union Of India And Ors ...  \n",
       "88    Indian Young Lawyers Association vs The State ...  \n",
       "287   Kesavananda Bharati Sripadagalvaru vs State Of...  \n",
       "1008  Shayara Bano vs Union Of India And Ors Ministr...  "
      ]
     },
     "execution_count": 85,
     "metadata": {},
     "output_type": "execute_result"
    }
   ],
   "source": [
    "df_no_duplicates = df.drop_duplicates(subset=['pdf_name'])\n",
    "df_no_duplicates.head()"
   ]
  },
  {
   "cell_type": "code",
   "execution_count": 83,
   "metadata": {},
   "outputs": [],
   "source": [
    "from llama_index.core.vector_stores.types import MetadataFilters, ExactMatchFilter\n",
    "\n",
    "# filters = MetadataFilters(filters=[ExactMatchFilter(key=\"pdf_name\", value=\"Shayara_Bano_vs_Union_Of_India_And_Ors_Ministry_Of_Women_on_22_August_2017.PDF\")])\n",
    "# query_engine = index.as_query_engine(filters=filters)\n",
    "# response = query_engine.query(\"Which case is about women empowerment?\")"
   ]
  },
  {
   "cell_type": "code",
   "execution_count": 86,
   "metadata": {},
   "outputs": [
    {
     "name": "stdout",
     "output_type": "stream",
     "text": [
      "Index: 0\n",
      "Ashoka_Kumar_Thakur_vs_Union_Of_India_And_Ors_on_10_April_2008.PDF\n"
     ]
    },
    {
     "name": "stderr",
     "output_type": "stream",
     "text": [
      "/tmp/ipykernel_58913/2082677898.py:11: SettingWithCopyWarning: \n",
      "A value is trying to be set on a copy of a slice from a DataFrame.\n",
      "Try using .loc[row_indexer,col_indexer] = value instead\n",
      "\n",
      "See the caveats in the documentation: https://pandas.pydata.org/pandas-docs/stable/user_guide/indexing.html#returning-a-view-versus-a-copy\n",
      "  df_no_duplicates.at[i, 'Legal_Issues'] = legal_issues_response.response\n",
      "/tmp/ipykernel_58913/2082677898.py:15: SettingWithCopyWarning: \n",
      "A value is trying to be set on a copy of a slice from a DataFrame.\n",
      "Try using .loc[row_indexer,col_indexer] = value instead\n",
      "\n",
      "See the caveats in the documentation: https://pandas.pydata.org/pandas-docs/stable/user_guide/indexing.html#returning-a-view-versus-a-copy\n",
      "  df_no_duplicates.at[i, 'Facts'] = facts_response.response\n",
      "/tmp/ipykernel_58913/2082677898.py:19: SettingWithCopyWarning: \n",
      "A value is trying to be set on a copy of a slice from a DataFrame.\n",
      "Try using .loc[row_indexer,col_indexer] = value instead\n",
      "\n",
      "See the caveats in the documentation: https://pandas.pydata.org/pandas-docs/stable/user_guide/indexing.html#returning-a-view-versus-a-copy\n",
      "  df_no_duplicates.at[i, 'Arguments'] = arguments_response.response\n"
     ]
    },
    {
     "name": "stdout",
     "output_type": "stream",
     "text": [
      "Index: 88\n",
      "Indian_Young_Lawyers_Association_vs_The_State_Of_Kerala_on_28_September_2018.PDF\n",
      "Index: 287\n",
      "Kesavananda_Bharati_Sripadagalvaru_vs_State_Of_Kerala_And_Anr_on_24_April_1973.PDF\n",
      "Index: 1008\n",
      "Shayara_Bano_vs_Union_Of_India_And_Ors_Ministry_Of_Women_on_22_August_2017.PDF\n"
     ]
    }
   ],
   "source": [
    "# Iterating over rows\n",
    "for i, row in df_no_duplicates.iterrows():\n",
    "    print(f\"Index: {i}\")\n",
    "    # if i==1008:\n",
    "    # df_no_duplicates.at[index, 'NewColumn'] = 1\n",
    "    print(row['pdf_name'])\n",
    "    filters = MetadataFilters(filters=[ExactMatchFilter(key=\"pdf_name\", value=row['pdf_name'])])\n",
    "    query_engine = index.as_query_engine(filters=filters)\n",
    "\n",
    "    legal_issues_response = query_engine.query(\"What is the legal issue in case, explain in detail\")\n",
    "    df_no_duplicates.at[i, 'Legal_Issues'] = legal_issues_response.response\n",
    "    # print(legal_issues_response)\n",
    "    \n",
    "    facts_response = query_engine.query(\"What are the facts of the case?, write pointwise\")\n",
    "    df_no_duplicates.at[i, 'Facts'] = facts_response.response\n",
    "    # print(facts_response)\n",
    "\n",
    "    arguments_response = query_engine.query(\"What are the arguments in the case?, write pointwise\")\n",
    "    df_no_duplicates.at[i, 'Arguments'] = arguments_response.response\n",
    "    # print(arguments_response)        \n",
    "    # break"
   ]
  },
  {
   "cell_type": "code",
   "execution_count": 87,
   "metadata": {},
   "outputs": [
    {
     "data": {
      "text/html": [
       "<div>\n",
       "<style scoped>\n",
       "    .dataframe tbody tr th:only-of-type {\n",
       "        vertical-align: middle;\n",
       "    }\n",
       "\n",
       "    .dataframe tbody tr th {\n",
       "        vertical-align: top;\n",
       "    }\n",
       "\n",
       "    .dataframe thead th {\n",
       "        text-align: right;\n",
       "    }\n",
       "</style>\n",
       "<table border=\"1\" class=\"dataframe\">\n",
       "  <thead>\n",
       "    <tr style=\"text-align: right;\">\n",
       "      <th></th>\n",
       "      <th>pdf_name</th>\n",
       "      <th>page</th>\n",
       "      <th>id</th>\n",
       "      <th>legible_name</th>\n",
       "      <th>Legal_Issues</th>\n",
       "      <th>Facts</th>\n",
       "      <th>Arguments</th>\n",
       "    </tr>\n",
       "  </thead>\n",
       "  <tbody>\n",
       "    <tr>\n",
       "      <th>0</th>\n",
       "      <td>Ashoka_Kumar_Thakur_vs_Union_Of_India_And_Ors_...</td>\n",
       "      <td>1</td>\n",
       "      <td>f9698246-3e79-489c-a7f9-d1fbd85f5bc3</td>\n",
       "      <td>Ashoka Kumar Thakur vs Union Of India And Ors ...</td>\n",
       "      <td>The legal issue in the case revolves around th...</td>\n",
       "      <td>1. The case involves a review of the legal pos...</td>\n",
       "      <td>1. Arguments have been presented regarding whe...</td>\n",
       "    </tr>\n",
       "    <tr>\n",
       "      <th>88</th>\n",
       "      <td>Indian_Young_Lawyers_Association_vs_The_State_...</td>\n",
       "      <td>1</td>\n",
       "      <td>6fa9d76e-cc6b-4431-a2f4-80b40fb4009b</td>\n",
       "      <td>Indian Young Lawyers Association vs The State ...</td>\n",
       "      <td>The legal issue in the case revolves around th...</td>\n",
       "      <td>1. The case involves the prohibition of women ...</td>\n",
       "      <td>1. Discrimination against women due to exclusi...</td>\n",
       "    </tr>\n",
       "    <tr>\n",
       "      <th>287</th>\n",
       "      <td>Kesavananda_Bharati_Sripadagalvaru_vs_State_Of...</td>\n",
       "      <td>1</td>\n",
       "      <td>679ddb38-5f7a-43a4-9a15-d045060c4fe4</td>\n",
       "      <td>Kesavananda Bharati Sripadagalvaru vs State Of...</td>\n",
       "      <td>The legal issue in the case revolves around th...</td>\n",
       "      <td>1. The case involves a challenge to the validi...</td>\n",
       "      <td>1. The petitioner challenged the validity of t...</td>\n",
       "    </tr>\n",
       "    <tr>\n",
       "      <th>1008</th>\n",
       "      <td>Shayara_Bano_vs_Union_Of_India_And_Ors_Ministr...</td>\n",
       "      <td>1</td>\n",
       "      <td>3b96ae09-7b57-436d-8575-8b58a098b60d</td>\n",
       "      <td>Shayara Bano vs Union Of India And Ors Ministr...</td>\n",
       "      <td>The legal issue in the case revolves around th...</td>\n",
       "      <td>1. The case involves a challenge to Section 6-...</td>\n",
       "      <td>1. State action must be tested for constitutio...</td>\n",
       "    </tr>\n",
       "  </tbody>\n",
       "</table>\n",
       "</div>"
      ],
      "text/plain": [
       "                                               pdf_name  page  \\\n",
       "0     Ashoka_Kumar_Thakur_vs_Union_Of_India_And_Ors_...     1   \n",
       "88    Indian_Young_Lawyers_Association_vs_The_State_...     1   \n",
       "287   Kesavananda_Bharati_Sripadagalvaru_vs_State_Of...     1   \n",
       "1008  Shayara_Bano_vs_Union_Of_India_And_Ors_Ministr...     1   \n",
       "\n",
       "                                        id  \\\n",
       "0     f9698246-3e79-489c-a7f9-d1fbd85f5bc3   \n",
       "88    6fa9d76e-cc6b-4431-a2f4-80b40fb4009b   \n",
       "287   679ddb38-5f7a-43a4-9a15-d045060c4fe4   \n",
       "1008  3b96ae09-7b57-436d-8575-8b58a098b60d   \n",
       "\n",
       "                                           legible_name  \\\n",
       "0     Ashoka Kumar Thakur vs Union Of India And Ors ...   \n",
       "88    Indian Young Lawyers Association vs The State ...   \n",
       "287   Kesavananda Bharati Sripadagalvaru vs State Of...   \n",
       "1008  Shayara Bano vs Union Of India And Ors Ministr...   \n",
       "\n",
       "                                           Legal_Issues  \\\n",
       "0     The legal issue in the case revolves around th...   \n",
       "88    The legal issue in the case revolves around th...   \n",
       "287   The legal issue in the case revolves around th...   \n",
       "1008  The legal issue in the case revolves around th...   \n",
       "\n",
       "                                                  Facts  \\\n",
       "0     1. The case involves a review of the legal pos...   \n",
       "88    1. The case involves the prohibition of women ...   \n",
       "287   1. The case involves a challenge to the validi...   \n",
       "1008  1. The case involves a challenge to Section 6-...   \n",
       "\n",
       "                                              Arguments  \n",
       "0     1. Arguments have been presented regarding whe...  \n",
       "88    1. Discrimination against women due to exclusi...  \n",
       "287   1. The petitioner challenged the validity of t...  \n",
       "1008  1. State action must be tested for constitutio...  "
      ]
     },
     "execution_count": 87,
     "metadata": {},
     "output_type": "execute_result"
    }
   ],
   "source": [
    "df_no_duplicates.head()"
   ]
  },
  {
   "cell_type": "code",
   "execution_count": 88,
   "metadata": {},
   "outputs": [],
   "source": [
    "df_no_duplicates.to_csv(\"metadata_doc4_gpt003s_0_no_duplicates.csv\")"
   ]
  },
  {
   "cell_type": "code",
   "execution_count": 97,
   "metadata": {},
   "outputs": [
    {
     "data": {
      "text/html": [
       "<div>\n",
       "<style scoped>\n",
       "    .dataframe tbody tr th:only-of-type {\n",
       "        vertical-align: middle;\n",
       "    }\n",
       "\n",
       "    .dataframe tbody tr th {\n",
       "        vertical-align: top;\n",
       "    }\n",
       "\n",
       "    .dataframe thead th {\n",
       "        text-align: right;\n",
       "    }\n",
       "</style>\n",
       "<table border=\"1\" class=\"dataframe\">\n",
       "  <thead>\n",
       "    <tr style=\"text-align: right;\">\n",
       "      <th></th>\n",
       "      <th>Unnamed: 0</th>\n",
       "      <th>pdf_name</th>\n",
       "      <th>page</th>\n",
       "      <th>id</th>\n",
       "      <th>legible_name</th>\n",
       "      <th>Legal_Issues</th>\n",
       "      <th>Facts</th>\n",
       "      <th>Arguments</th>\n",
       "    </tr>\n",
       "  </thead>\n",
       "  <tbody>\n",
       "    <tr>\n",
       "      <th>0</th>\n",
       "      <td>0</td>\n",
       "      <td>Ashoka_Kumar_Thakur_vs_Union_Of_India_And_Ors_...</td>\n",
       "      <td>1</td>\n",
       "      <td>f9698246-3e79-489c-a7f9-d1fbd85f5bc3</td>\n",
       "      <td>Ashoka Kumar Thakur vs Union Of India And Ors ...</td>\n",
       "      <td>The legal issue in the case revolves around th...</td>\n",
       "      <td>1. The case involves a review of the legal pos...</td>\n",
       "      <td>1. Arguments have been presented regarding whe...</td>\n",
       "    </tr>\n",
       "    <tr>\n",
       "      <th>1</th>\n",
       "      <td>88</td>\n",
       "      <td>Indian_Young_Lawyers_Association_vs_The_State_...</td>\n",
       "      <td>1</td>\n",
       "      <td>6fa9d76e-cc6b-4431-a2f4-80b40fb4009b</td>\n",
       "      <td>Indian Young Lawyers Association vs The State ...</td>\n",
       "      <td>The legal issue in the case revolves around th...</td>\n",
       "      <td>1. The case involves the prohibition of women ...</td>\n",
       "      <td>1. Discrimination against women due to exclusi...</td>\n",
       "    </tr>\n",
       "    <tr>\n",
       "      <th>2</th>\n",
       "      <td>287</td>\n",
       "      <td>Kesavananda_Bharati_Sripadagalvaru_vs_State_Of...</td>\n",
       "      <td>1</td>\n",
       "      <td>679ddb38-5f7a-43a4-9a15-d045060c4fe4</td>\n",
       "      <td>Kesavananda Bharati Sripadagalvaru vs State Of...</td>\n",
       "      <td>The legal issue in the case revolves around th...</td>\n",
       "      <td>1. The case involves a challenge to the validi...</td>\n",
       "      <td>1. The petitioner challenged the validity of t...</td>\n",
       "    </tr>\n",
       "    <tr>\n",
       "      <th>3</th>\n",
       "      <td>1008</td>\n",
       "      <td>Shayara_Bano_vs_Union_Of_India_And_Ors_Ministr...</td>\n",
       "      <td>1</td>\n",
       "      <td>3b96ae09-7b57-436d-8575-8b58a098b60d</td>\n",
       "      <td>Shayara Bano vs Union Of India And Ors Ministr...</td>\n",
       "      <td>The legal issue in the case revolves around th...</td>\n",
       "      <td>1. The case involves a challenge to Section 6-...</td>\n",
       "      <td>1. State action must be tested for constitutio...</td>\n",
       "    </tr>\n",
       "  </tbody>\n",
       "</table>\n",
       "</div>"
      ],
      "text/plain": [
       "   Unnamed: 0                                           pdf_name  page  \\\n",
       "0           0  Ashoka_Kumar_Thakur_vs_Union_Of_India_And_Ors_...     1   \n",
       "1          88  Indian_Young_Lawyers_Association_vs_The_State_...     1   \n",
       "2         287  Kesavananda_Bharati_Sripadagalvaru_vs_State_Of...     1   \n",
       "3        1008  Shayara_Bano_vs_Union_Of_India_And_Ors_Ministr...     1   \n",
       "\n",
       "                                     id  \\\n",
       "0  f9698246-3e79-489c-a7f9-d1fbd85f5bc3   \n",
       "1  6fa9d76e-cc6b-4431-a2f4-80b40fb4009b   \n",
       "2  679ddb38-5f7a-43a4-9a15-d045060c4fe4   \n",
       "3  3b96ae09-7b57-436d-8575-8b58a098b60d   \n",
       "\n",
       "                                        legible_name  \\\n",
       "0  Ashoka Kumar Thakur vs Union Of India And Ors ...   \n",
       "1  Indian Young Lawyers Association vs The State ...   \n",
       "2  Kesavananda Bharati Sripadagalvaru vs State Of...   \n",
       "3  Shayara Bano vs Union Of India And Ors Ministr...   \n",
       "\n",
       "                                        Legal_Issues  \\\n",
       "0  The legal issue in the case revolves around th...   \n",
       "1  The legal issue in the case revolves around th...   \n",
       "2  The legal issue in the case revolves around th...   \n",
       "3  The legal issue in the case revolves around th...   \n",
       "\n",
       "                                               Facts  \\\n",
       "0  1. The case involves a review of the legal pos...   \n",
       "1  1. The case involves the prohibition of women ...   \n",
       "2  1. The case involves a challenge to the validi...   \n",
       "3  1. The case involves a challenge to Section 6-...   \n",
       "\n",
       "                                           Arguments  \n",
       "0  1. Arguments have been presented regarding whe...  \n",
       "1  1. Discrimination against women due to exclusi...  \n",
       "2  1. The petitioner challenged the validity of t...  \n",
       "3  1. State action must be tested for constitutio...  "
      ]
     },
     "execution_count": 97,
     "metadata": {},
     "output_type": "execute_result"
    }
   ],
   "source": [
    "df_no_duplicates = pd.read_csv(\"metadata_doc4_gpt003s_0_no_duplicates.csv\")\n",
    "df_no_duplicates.head()"
   ]
  },
  {
   "cell_type": "code",
   "execution_count": 98,
   "metadata": {},
   "outputs": [
    {
     "name": "stdout",
     "output_type": "stream",
     "text": [
      "Index: 0\n",
      "Ashoka_Kumar_Thakur_vs_Union_Of_India_And_Ors_on_10_April_2008.PDF\n",
      "Index: 1\n",
      "Indian_Young_Lawyers_Association_vs_The_State_Of_Kerala_on_28_September_2018.PDF\n",
      "Index: 2\n",
      "Kesavananda_Bharati_Sripadagalvaru_vs_State_Of_Kerala_And_Anr_on_24_April_1973.PDF\n",
      "Index: 3\n",
      "Shayara_Bano_vs_Union_Of_India_And_Ors_Ministry_Of_Women_on_22_August_2017.PDF\n"
     ]
    }
   ],
   "source": [
    "import os\n",
    "from openai import OpenAI\n",
    "\n",
    "client = OpenAI(\n",
    "    # This is the default and can be omitted\n",
    "    api_key=os.environ.get(\"OPENAI_API_KEY\"),\n",
    ")\n",
    "\n",
    "for i, row in df_no_duplicates.iterrows():\n",
    "    print(f\"Index: {i}\")\n",
    "    # if i==1008:\n",
    "    # df_no_duplicates.at[index, 'NewColumn'] = 1\n",
    "    print(row['pdf_name'])\n",
    "    documents = SimpleDirectoryReader(input_files=[f\"./documents_4_v0/{row['pdf_name']}\"]).load_data()\n",
    "\n",
    "    user_prompt = \"\\n In the above text, write the names of judges sitting in the bench on this case. Answer should only contain name of Judges\"\n",
    "    gpt_prompt = documents[0].text + documents[1].text + user_prompt\n",
    "\n",
    "    chat_completion = client.chat.completions.create(\n",
    "        messages=[\n",
    "            {\n",
    "                \"role\": \"user\",\n",
    "                \"content\": gpt_prompt,\n",
    "            }\n",
    "        ],\n",
    "        model=\"gpt-3.5-turbo\",\n",
    "    )\n",
    "\n",
    "    df_no_duplicates.at[i, 'judges'] = chat_completion.choices[0].message.content\n",
    "\n",
    "    user_prompt = \"\\n In the above text, write the names of petitioner on this case. Answer should only contain petitioners\"\n",
    "    gpt_prompt = documents[0].text + documents[1].text + user_prompt\n",
    "\n",
    "    chat_completion = client.chat.completions.create(\n",
    "        messages=[\n",
    "            {\n",
    "                \"role\": \"user\",\n",
    "                \"content\": gpt_prompt,\n",
    "            }\n",
    "        ],\n",
    "        model=\"gpt-3.5-turbo\",\n",
    "    )\n",
    "\n",
    "    df_no_duplicates.at[i, 'petitioners'] = chat_completion.choices[0].message.content\n",
    "\n",
    "    user_prompt = \"\\n In the above text, write the names of respondants on this case. Answer should only contain respondant\"\n",
    "    gpt_prompt = documents[0].text + documents[1].text + user_prompt\n",
    "\n",
    "    chat_completion = client.chat.completions.create(\n",
    "        messages=[\n",
    "            {\n",
    "                \"role\": \"user\",\n",
    "                \"content\": gpt_prompt,\n",
    "            }\n",
    "        ],\n",
    "        model=\"gpt-3.5-turbo\",\n",
    "    )\n",
    "\n",
    "    df_no_duplicates.at[i, 'respondant'] = chat_completion.choices[0].message.content\n"
   ]
  },
  {
   "cell_type": "code",
   "execution_count": 99,
   "metadata": {},
   "outputs": [
    {
     "data": {
      "text/html": [
       "<div>\n",
       "<style scoped>\n",
       "    .dataframe tbody tr th:only-of-type {\n",
       "        vertical-align: middle;\n",
       "    }\n",
       "\n",
       "    .dataframe tbody tr th {\n",
       "        vertical-align: top;\n",
       "    }\n",
       "\n",
       "    .dataframe thead th {\n",
       "        text-align: right;\n",
       "    }\n",
       "</style>\n",
       "<table border=\"1\" class=\"dataframe\">\n",
       "  <thead>\n",
       "    <tr style=\"text-align: right;\">\n",
       "      <th></th>\n",
       "      <th>Unnamed: 0</th>\n",
       "      <th>pdf_name</th>\n",
       "      <th>page</th>\n",
       "      <th>id</th>\n",
       "      <th>legible_name</th>\n",
       "      <th>Legal_Issues</th>\n",
       "      <th>Facts</th>\n",
       "      <th>Arguments</th>\n",
       "      <th>judges</th>\n",
       "      <th>petitioners</th>\n",
       "      <th>respondant</th>\n",
       "    </tr>\n",
       "  </thead>\n",
       "  <tbody>\n",
       "    <tr>\n",
       "      <th>0</th>\n",
       "      <td>0</td>\n",
       "      <td>Ashoka_Kumar_Thakur_vs_Union_Of_India_And_Ors_...</td>\n",
       "      <td>1</td>\n",
       "      <td>f9698246-3e79-489c-a7f9-d1fbd85f5bc3</td>\n",
       "      <td>Ashoka Kumar Thakur vs Union Of India And Ors ...</td>\n",
       "      <td>The legal issue in the case revolves around th...</td>\n",
       "      <td>1. The case involves a review of the legal pos...</td>\n",
       "      <td>1. Arguments have been presented regarding whe...</td>\n",
       "      <td>Arijit Pasayat, C.K. Thakker</td>\n",
       "      <td>Ashoka Kumar Thakur</td>\n",
       "      <td>Union of India and Ors</td>\n",
       "    </tr>\n",
       "    <tr>\n",
       "      <th>1</th>\n",
       "      <td>88</td>\n",
       "      <td>Indian_Young_Lawyers_Association_vs_The_State_...</td>\n",
       "      <td>1</td>\n",
       "      <td>6fa9d76e-cc6b-4431-a2f4-80b40fb4009b</td>\n",
       "      <td>Indian Young Lawyers Association vs The State ...</td>\n",
       "      <td>The legal issue in the case revolves around th...</td>\n",
       "      <td>1. The case involves the prohibition of women ...</td>\n",
       "      <td>1. Discrimination against women due to exclusi...</td>\n",
       "      <td>Chief Justice, Rohinton Fali Nariman, A.M. Kha...</td>\n",
       "      <td>Indian Young Lawyers Association</td>\n",
       "      <td>The State of Kerala &amp; Ors.</td>\n",
       "    </tr>\n",
       "    <tr>\n",
       "      <th>2</th>\n",
       "      <td>287</td>\n",
       "      <td>Kesavananda_Bharati_Sripadagalvaru_vs_State_Of...</td>\n",
       "      <td>1</td>\n",
       "      <td>679ddb38-5f7a-43a4-9a15-d045060c4fe4</td>\n",
       "      <td>Kesavananda Bharati Sripadagalvaru vs State Of...</td>\n",
       "      <td>The legal issue in the case revolves around th...</td>\n",
       "      <td>1. The case involves a challenge to the validi...</td>\n",
       "      <td>1. The petitioner challenged the validity of t...</td>\n",
       "      <td>S.M. Sikri, A.N. Grover, A.N. Ray, D.G. Paleka...</td>\n",
       "      <td>His Holiness Kesavananda Bharati Sripadagalvaru</td>\n",
       "      <td>State of Kerala and Anr</td>\n",
       "    </tr>\n",
       "    <tr>\n",
       "      <th>3</th>\n",
       "      <td>1008</td>\n",
       "      <td>Shayara_Bano_vs_Union_Of_India_And_Ors_Ministr...</td>\n",
       "      <td>1</td>\n",
       "      <td>3b96ae09-7b57-436d-8575-8b58a098b60d</td>\n",
       "      <td>Shayara Bano vs Union Of India And Ors Ministr...</td>\n",
       "      <td>The legal issue in the case revolves around th...</td>\n",
       "      <td>1. The case involves a challenge to Section 6-...</td>\n",
       "      <td>1. State action must be tested for constitutio...</td>\n",
       "      <td>1. S. Abdul Nazeer\\n2. Uday Umesh Lalit\\n3. Ro...</td>\n",
       "      <td>Shayara Bano, Aafreen Rehman, Gulshan Parveen,...</td>\n",
       "      <td>1. Union of India\\n2. Ministry of Women and Ch...</td>\n",
       "    </tr>\n",
       "  </tbody>\n",
       "</table>\n",
       "</div>"
      ],
      "text/plain": [
       "   Unnamed: 0                                           pdf_name  page  \\\n",
       "0           0  Ashoka_Kumar_Thakur_vs_Union_Of_India_And_Ors_...     1   \n",
       "1          88  Indian_Young_Lawyers_Association_vs_The_State_...     1   \n",
       "2         287  Kesavananda_Bharati_Sripadagalvaru_vs_State_Of...     1   \n",
       "3        1008  Shayara_Bano_vs_Union_Of_India_And_Ors_Ministr...     1   \n",
       "\n",
       "                                     id  \\\n",
       "0  f9698246-3e79-489c-a7f9-d1fbd85f5bc3   \n",
       "1  6fa9d76e-cc6b-4431-a2f4-80b40fb4009b   \n",
       "2  679ddb38-5f7a-43a4-9a15-d045060c4fe4   \n",
       "3  3b96ae09-7b57-436d-8575-8b58a098b60d   \n",
       "\n",
       "                                        legible_name  \\\n",
       "0  Ashoka Kumar Thakur vs Union Of India And Ors ...   \n",
       "1  Indian Young Lawyers Association vs The State ...   \n",
       "2  Kesavananda Bharati Sripadagalvaru vs State Of...   \n",
       "3  Shayara Bano vs Union Of India And Ors Ministr...   \n",
       "\n",
       "                                        Legal_Issues  \\\n",
       "0  The legal issue in the case revolves around th...   \n",
       "1  The legal issue in the case revolves around th...   \n",
       "2  The legal issue in the case revolves around th...   \n",
       "3  The legal issue in the case revolves around th...   \n",
       "\n",
       "                                               Facts  \\\n",
       "0  1. The case involves a review of the legal pos...   \n",
       "1  1. The case involves the prohibition of women ...   \n",
       "2  1. The case involves a challenge to the validi...   \n",
       "3  1. The case involves a challenge to Section 6-...   \n",
       "\n",
       "                                           Arguments  \\\n",
       "0  1. Arguments have been presented regarding whe...   \n",
       "1  1. Discrimination against women due to exclusi...   \n",
       "2  1. The petitioner challenged the validity of t...   \n",
       "3  1. State action must be tested for constitutio...   \n",
       "\n",
       "                                              judges  \\\n",
       "0                       Arijit Pasayat, C.K. Thakker   \n",
       "1  Chief Justice, Rohinton Fali Nariman, A.M. Kha...   \n",
       "2  S.M. Sikri, A.N. Grover, A.N. Ray, D.G. Paleka...   \n",
       "3  1. S. Abdul Nazeer\\n2. Uday Umesh Lalit\\n3. Ro...   \n",
       "\n",
       "                                         petitioners  \\\n",
       "0                                Ashoka Kumar Thakur   \n",
       "1                   Indian Young Lawyers Association   \n",
       "2    His Holiness Kesavananda Bharati Sripadagalvaru   \n",
       "3  Shayara Bano, Aafreen Rehman, Gulshan Parveen,...   \n",
       "\n",
       "                                          respondant  \n",
       "0                             Union of India and Ors  \n",
       "1                         The State of Kerala & Ors.  \n",
       "2                            State of Kerala and Anr  \n",
       "3  1. Union of India\\n2. Ministry of Women and Ch...  "
      ]
     },
     "execution_count": 99,
     "metadata": {},
     "output_type": "execute_result"
    }
   ],
   "source": [
    "df_no_duplicates.head()"
   ]
  },
  {
   "cell_type": "code",
   "execution_count": 100,
   "metadata": {},
   "outputs": [],
   "source": [
    "df_no_duplicates.to_csv(\"metadata_doc4_gpt003s_0_detailed.csv\")"
   ]
  },
  {
   "cell_type": "code",
   "execution_count": null,
   "metadata": {},
   "outputs": [],
   "source": []
  }
 ],
 "metadata": {
  "kernelspec": {
   "display_name": "envlegalv1",
   "language": "python",
   "name": "python3"
  },
  "language_info": {
   "codemirror_mode": {
    "name": "ipython",
    "version": 3
   },
   "file_extension": ".py",
   "mimetype": "text/x-python",
   "name": "python",
   "nbconvert_exporter": "python",
   "pygments_lexer": "ipython3",
   "version": "3.10.12"
  }
 },
 "nbformat": 4,
 "nbformat_minor": 2
}
