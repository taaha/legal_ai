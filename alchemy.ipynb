{
 "cells": [
  {
   "cell_type": "markdown",
   "metadata": {},
   "source": [
    "## Intitial Setup"
   ]
  },
  {
   "cell_type": "code",
   "execution_count": 1,
   "metadata": {},
   "outputs": [
    {
     "name": "stderr",
     "output_type": "stream",
     "text": [
      "/home/darth/Documents/code/legal_AI_v0/.venv/lib/python3.10/site-packages/tqdm/auto.py:21: TqdmWarning: IProgress not found. Please update jupyter and ipywidgets. See https://ipywidgets.readthedocs.io/en/stable/user_install.html\n",
      "  from .autonotebook import tqdm as notebook_tqdm\n"
     ]
    }
   ],
   "source": [
    "# Importing required libraries\n",
    "import warnings\n",
    "import os\n",
    "import openai\n",
    "from pathlib import Path\n",
    "from dotenv import load_dotenv\n",
    "import wandb\n",
    "from llama_index.core import VectorStoreIndex, SimpleDirectoryReader\n",
    "from llama_index.llms.openai import OpenAI\n",
    "\n",
    "# Configuring warnings and environmental variables\n",
    "warnings.filterwarnings(\"ignore\")\n",
    "WANDB_PROJECT = \"test_local_alchemy_v0\""
   ]
  },
  {
   "cell_type": "code",
   "execution_count": 2,
   "metadata": {},
   "outputs": [],
   "source": [
    "from dotenv import load_dotenv\n",
    "import openai\n",
    "import os\n",
    "\n",
    "load_dotenv()  # take environment variables from .env.\n",
    "\n",
    "openai.api_key = os.environ[\"OPENAI_API_KEY\"]"
   ]
  },
  {
   "cell_type": "markdown",
   "metadata": {},
   "source": [
    "## Read Documents"
   ]
  },
  {
   "cell_type": "code",
   "execution_count": 2,
   "metadata": {},
   "outputs": [],
   "source": [
    "documents = SimpleDirectoryReader(\"./documents_4_v0\").load_data()"
   ]
  },
  {
   "cell_type": "code",
   "execution_count": 3,
   "metadata": {},
   "outputs": [
    {
     "name": "stdout",
     "output_type": "stream",
     "text": [
      "Doc ID: 8586e2dd-975d-476b-9aaa-79afbab07f1f\n",
      "Text: Ashoka Kumar Thakur vs Union Of India And Ors on 10 April, 2008\n",
      "Author: Arijit Pasayat Bench: Arijit Pasayat, C.K. Thakker\n",
      "CASE NO.: Writ Petition (civil)  265 of 2006 PETITIONER: Ashoka Kumar\n",
      "Thakur RESPONDENT: Union of India and Ors DATE OF JUDGMENT: 10/04/2008\n",
      "BENCH: Dr. ARIJIT PASAYAT & C.K. THAKKER JUDGMENT: J U D G M E N T\n",
      "WRIT ...\n"
     ]
    }
   ],
   "source": [
    "print(documents[0])"
   ]
  },
  {
   "cell_type": "code",
   "execution_count": 4,
   "metadata": {},
   "outputs": [
    {
     "data": {
      "text/plain": [
       "1320"
      ]
     },
     "execution_count": 4,
     "metadata": {},
     "output_type": "execute_result"
    }
   ],
   "source": [
    "len(documents)"
   ]
  },
  {
   "cell_type": "markdown",
   "metadata": {},
   "source": [
    "## W&B initialisation"
   ]
  },
  {
   "cell_type": "code",
   "execution_count": 5,
   "metadata": {},
   "outputs": [
    {
     "name": "stderr",
     "output_type": "stream",
     "text": [
      "Failed to detect the name of this notebook, you can set it manually with the WANDB_NOTEBOOK_NAME environment variable to enable code saving.\n"
     ]
    },
    {
     "name": "stderr",
     "output_type": "stream",
     "text": [
      "\u001b[34m\u001b[1mwandb\u001b[0m: Streaming LlamaIndex events to W&B at https://wandb.ai/taaha-s-bajwa/test_local_alchemy_v0/runs/boutubi0\n",
      "\u001b[34m\u001b[1mwandb\u001b[0m: `WandbCallbackHandler` is currently in beta.\n",
      "\u001b[34m\u001b[1mwandb\u001b[0m: Please report any issues to https://github.com/wandb/wandb/issues with the tag `llamaindex`.\n"
     ]
    }
   ],
   "source": [
    "# Initialize W&B for tracking and visualizations\n",
    "from llama_index.core.callbacks import CallbackManager\n",
    "from llama_index.callbacks.wandb import WandbCallbackHandler\n",
    "\n",
    "wandb_args = {\"project\": WANDB_PROJECT, \"name\": \"baseline-rag\"}\n",
    "wandb_callback = WandbCallbackHandler(run_args=wandb_args)\n",
    "callback_manager = CallbackManager([wandb_callback])"
   ]
  },
  {
   "cell_type": "markdown",
   "metadata": {},
   "source": [
    "## Openai/Mistral LLM"
   ]
  },
  {
   "cell_type": "code",
   "execution_count": 7,
   "metadata": {},
   "outputs": [],
   "source": [
    "# from llama_index.llms.ollama import Ollama\n",
    "\n",
    "# llm = Ollama(\n",
    "#         model=\"mistral\",\n",
    "#         temperature=0.1,\n",
    "#         context_window=3900, \n",
    "#         request_timeout=30.0\n",
    "#         )\n",
    "\n",
    "# llm = LlamaCPP(\n",
    "#     # You can pass in the URL to a GGML model to download it automatically\n",
    "#     model_url=None,\n",
    "#     # optionally, you can set the path to a pre-downloaded model instead of model_url\n",
    "#     model_path=\"/Users/nkise/Documents/projects/Courses 📜/RAG/llama.cpp/models/mistral-instruct-7b-q3k-small.gguf\",\n",
    "#     temperature=0.1,\n",
    "#     max_new_tokens=512,\n",
    "#     # llama2 has a context window of 4096 tokens, but we set it lower to allow for some wiggle room\n",
    "#     context_window=3900,\n",
    "#     # kwargs to pass to __call__()\n",
    "#     generate_kwargs={},\n",
    "#     # kwargs to pass to __init__()\n",
    "#     # set to at least 1 to use GPU\n",
    "#     model_kwargs={\"n_gpu_layers\": 1},\n",
    "#     # transform inputs into Llama2 format\n",
    "#     messages_to_prompt=messages_to_prompt,\n",
    "#     completion_to_prompt=completion_to_prompt,\n",
    "#     verbose=False,\n",
    "# )"
   ]
  },
  {
   "cell_type": "code",
   "execution_count": 8,
   "metadata": {},
   "outputs": [],
   "source": [
    "from llama_index.llms.openai import OpenAI\n",
    "\n",
    "llm = OpenAI()"
   ]
  },
  {
   "cell_type": "code",
   "execution_count": 9,
   "metadata": {},
   "outputs": [
    {
     "name": "stdout",
     "output_type": "stream",
     "text": [
      "Of course! Here is a poem about cats and dogs:\n",
      "\n",
      "In a world of fur and whiskers,\n",
      "Where tails wag and purrs linger,\n",
      "Cats and dogs roam together,\n",
      "In harmony, they do not wither.\n",
      "\n",
      "The cat, with eyes so bright,\n",
      "Prowls through the night,\n",
      "Silent and sleek,\n",
      "With a graceful mystique.\n",
      "\n",
      "The dog, loyal and true,\n",
      "Barks at the moon,\n",
      "Boundless energy and joy,\n",
      "A faithful companion, oh boy!\n",
      "\n",
      "Together they play and chase,\n",
      "In a never-ending race,\n",
      "Through fields of green,\n",
      "The perfect team.\n",
      "\n",
      "Cats and dogs, so different yet the same,\n",
      "In their love and loyalty, they proclaim,\n",
      "That in this world of fur and paws,\n",
      "They will always be each other's cause.\n"
     ]
    }
   ],
   "source": [
    "response = llm.complete(\"Hello! Can you tell me a poem about cats and dogs?\")\n",
    "print(response.text)"
   ]
  },
  {
   "cell_type": "markdown",
   "metadata": {},
   "source": [
    "# Baseline RAG"
   ]
  },
  {
   "cell_type": "code",
   "execution_count": 15,
   "metadata": {},
   "outputs": [],
   "source": [
    "from llama_index.core import Settings\n",
    "from llama_index.core import ServiceContext\n",
    "from llama_index.embeddings.openai import OpenAIEmbedding\n",
    "\n",
    "# Setting up the ServiceContext with the language model and embedding model\n",
    "Settings.embed_model = OpenAIEmbedding(model=\"text-embedding-3-small\")\n",
    "service_context = ServiceContext.from_defaults(\n",
    "    llm=llm,\n",
    "    # embed_model='local',\n",
    "    # embed_model=OpenAIEmbedding(model=\"text-embedding-3-small\"), \n",
    "    callback_manager=callback_manager\n",
    ")"
   ]
  },
  {
   "cell_type": "markdown",
   "metadata": {},
   "source": [
    "### Chroma Vector Store and Query engine"
   ]
  },
  {
   "cell_type": "code",
   "execution_count": 13,
   "metadata": {},
   "outputs": [],
   "source": [
    "# import\n",
    "from llama_index.core import VectorStoreIndex, SimpleDirectoryReader\n",
    "from llama_index.vector_stores.chroma import ChromaVectorStore\n",
    "from llama_index.core import StorageContext\n",
    "from llama_index.embeddings.huggingface import HuggingFaceEmbedding\n",
    "from IPython.display import Markdown, display\n",
    "import chromadb"
   ]
  },
  {
   "cell_type": "code",
   "execution_count": 14,
   "metadata": {},
   "outputs": [],
   "source": [
    "# # Create to disk\n",
    "# db = chromadb.PersistentClient(path=\"./chroma_db_doc4_gpt003s\")\n",
    "# chroma_collection = db.get_or_create_collection(\"quickstart\")\n",
    "# vector_store = ChromaVectorStore(chroma_collection=chroma_collection)\n",
    "# storage_context = StorageContext.from_defaults(vector_store=vector_store)\n",
    "\n",
    "# index = VectorStoreIndex.from_documents(\n",
    "#     documents, storage_context=storage_context\n",
    "# )"
   ]
  },
  {
   "cell_type": "code",
   "execution_count": 15,
   "metadata": {},
   "outputs": [],
   "source": [
    "# load from disk\n",
    "db = chromadb.PersistentClient(path=\"./chroma_db_doc4_gpt003s\")\n",
    "chroma_collection = db.get_or_create_collection(\"quickstart\")\n",
    "vector_store = ChromaVectorStore(chroma_collection=chroma_collection)\n",
    "index = VectorStoreIndex.from_vector_store(\n",
    "    vector_store,\n",
    ")"
   ]
  },
  {
   "cell_type": "code",
   "execution_count": 16,
   "metadata": {},
   "outputs": [],
   "source": [
    "# Converting the index to a query engine for retrieval\n",
    "query_engine = index.as_query_engine()"
   ]
  },
  {
   "cell_type": "markdown",
   "metadata": {},
   "source": [
    "### Testing Query engine"
   ]
  },
  {
   "cell_type": "code",
   "execution_count": 22,
   "metadata": {},
   "outputs": [],
   "source": [
    "# Defining a function to display responses\n",
    "from llama_index.core.response.notebook_utils import display_response\n",
    "\n",
    "\n",
    "def query_and_display(question):\n",
    "    response = query_engine.query(question)\n",
    "    display_response(response)"
   ]
  },
  {
   "cell_type": "code",
   "execution_count": 23,
   "metadata": {},
   "outputs": [
    {
     "data": {
      "text/markdown": [
       "**`Final Response:`** Shayara Bano, the petitioner, intermittently performed her matrimonial duties and eventually left her matrimonial home with her father, maternal uncle, and children to live in her parental home. Despite her husband visiting her for maintenance and well-being, she refused to return to the matrimonial home when he requested. The husband later took custody of their two children, who have been in his care since then."
      ],
      "text/plain": [
       "<IPython.core.display.Markdown object>"
      ]
     },
     "metadata": {},
     "output_type": "display_data"
    },
    {
     "data": {
      "text/markdown": [
       "**`Final Response:`** Chief Justice Dipak Misra, along with Justices A.M. Khanwilkar, Rohinton Fali Nariman, D.Y. Chandrachud, and Indu Malhotra were the judges in the Young Lawyers case."
      ],
      "text/plain": [
       "<IPython.core.display.Markdown object>"
      ]
     },
     "metadata": {},
     "output_type": "display_data"
    }
   ],
   "source": [
    "# Testing the query engine with different questions\n",
    "query_and_display(\"What happened in Shayara Bano Case?\")\n",
    "query_and_display(\"Who was the judge in Young lawyers case?\")"
   ]
  },
  {
   "cell_type": "code",
   "execution_count": 24,
   "metadata": {},
   "outputs": [],
   "source": [
    "# Closing the W&B run after queries\n",
    "wandb_callback.finish()"
   ]
  },
  {
   "cell_type": "markdown",
   "metadata": {},
   "source": [
    "# Evaluation"
   ]
  },
  {
   "cell_type": "markdown",
   "metadata": {},
   "source": [
    "### Generating Eval Questions"
   ]
  },
  {
   "cell_type": "code",
   "execution_count": 3,
   "metadata": {},
   "outputs": [],
   "source": [
    "# Importing necessary modules for evaluation\n",
    "import copy\n",
    "import random\n",
    "import nest_asyncio\n",
    "import pandas as pd\n",
    "from llama_index.core.evaluation import (\n",
    "    DatasetGenerator,\n",
    "    RelevancyEvaluator,\n",
    "    ResponseEvaluator,\n",
    "    RetrieverEvaluator,\n",
    ")"
   ]
  },
  {
   "cell_type": "code",
   "execution_count": 79,
   "metadata": {},
   "outputs": [
    {
     "data": {
      "text/html": [
       "Changes to your `wandb` environment variables will be ignored because your `wandb` session has already started. For more information on how to modify your settings with `wandb.init()` arguments, please refer to <a href='https://wandb.me/wandb-init' target=\"_blank\">the W&B docs</a>."
      ],
      "text/plain": [
       "<IPython.core.display.HTML object>"
      ]
     },
     "metadata": {},
     "output_type": "display_data"
    },
    {
     "name": "stderr",
     "output_type": "stream",
     "text": [
      "\u001b[34m\u001b[1mwandb\u001b[0m: Streaming LlamaIndex events to W&B at https://wandb.ai/taaha-s-bajwa/test_local_alchemy_v0/runs/hhy6d6x6\n",
      "\u001b[34m\u001b[1mwandb\u001b[0m: `WandbCallbackHandler` is currently in beta.\n",
      "\u001b[34m\u001b[1mwandb\u001b[0m: Please report any issues to https://github.com/wandb/wandb/issues with the tag `llamaindex`.\n"
     ]
    }
   ],
   "source": [
    "# Initialize W&B for evaluation\n",
    "wandb_args = {\"project\": WANDB_PROJECT, \"name\": \"eval-questions-generation\"}\n",
    "wandb_callback = WandbCallbackHandler(run_args=wandb_args)\n",
    "callback_manager = CallbackManager([wandb_callback])\n",
    "llm_eval = OpenAI(temperature=0, model=\"gpt-3.5-turbo\")\n",
    "service_context = ServiceContext.from_defaults(\n",
    "    llm=llm_eval, \n",
    "    # embed_model=embed_model, \n",
    "    callback_manager=callback_manager\n",
    ")"
   ]
  },
  {
   "cell_type": "code",
   "execution_count": 38,
   "metadata": {},
   "outputs": [],
   "source": [
    "# Setting up the documents and generating questions for evaluation\n",
    "random_documents = copy.deepcopy(documents)\n",
    "\n",
    "# Shuffling the documents and selecting 4 random documents. Just to make the evaluation quicker\n",
    "random.shuffle(random_documents)\n",
    "random_documents = random_documents[:4]"
   ]
  },
  {
   "cell_type": "code",
   "execution_count": 39,
   "metadata": {},
   "outputs": [
    {
     "data": {
      "text/plain": [
       "[Document(id_='4a0adc44-4ec2-47a9-ab12-402cbff5825b', embedding=None, metadata={'page_label': '490', 'file_name': '/home/darth/Documents/code/legal_AI_v0/local_rag/documents_4_v0/Kesavananda_Bharati_Sripadagalvaru_vs_State_Of_Kerala_And_Anr_on_24_April_1973.PDF', 'file_path': '/home/darth/Documents/code/legal_AI_v0/local_rag/documents_4_v0/Kesavananda_Bharati_Sripadagalvaru_vs_State_Of_Kerala_And_Anr_on_24_April_1973.PDF', 'file_type': 'application/pdf', 'file_size': 2761497, 'creation_date': '2024-03-10', 'last_modified_date': '2024-02-27'}, excluded_embed_metadata_keys=['file_name', 'file_type', 'file_size', 'creation_date', 'last_modified_date', 'last_accessed_date'], excluded_llm_metadata_keys=['file_name', 'file_type', 'file_size', 'creation_date', 'last_modified_date', 'last_accessed_date'], relationships={}, text=\"individual have been subordinated to the general weal. No one has been allowed to so\\nexercise his rights as to impinge upon the rights of others. Although different streams\\nof thought still persist, the later writers have generally taken the view that natural\\nrights have no proper place outside the Constitution and the laws of the state. It is up\\nto the state to incorporate natural rights, or such of them as are deemed essential,\\nand subject to such limitations as are considered appropriate, in the Constitution or\\nthe laws made by it. But independently of the Constitution and the laws of the state,\\nnatural rights can have no legal sanction and cannot be enforced. The courts look to\\nthe provisions of the Constitution and the statutory law to determine the rights of\\nindividuals. The binding force of Constitutional and statutory provisions cannot be\\ntaken away nor can their amplitude and width be restricted by invoking the concept\\nof natural rights. Further, as natural rights have no place in order to be legally\\nenforceable outside the provisions of the Constitution and the statute, and have to be\\ngranted by the Constitutional or statutory provisions, and to the extent and subject to\\nsuch limitations as are contained in those provisions, those rights, having been once\\nincorporated in the Constitution or the statute, can be abridged or taken away by\\namendment of the Constitution or the statute. The rights, as such, cannot be deemed\\nto be supreme or of superior validity to the enactments made by the state, and not\\nsubject to the amendatory process.\\n1510. It may be emphasised in the above context that those who refuse to subscribe to\\nthe theory of enforceability of natural rights do not deny that there are certain\\nessential values in Me, nor do they deny that there are certain requirements\\nnecessary for a civilized existence. It is also not denied by them that there are certain\\nideals which have inspired mankind through the corridor of centuries and that there\\nare certain objectives and desiderata for which men have struggled and made\\nsacrifices. They are also conscious of the noble impulses yearning for a better order of\\nthings, of longings natural in most human hearts, to attain a state free from\\nimperfections where higher values prevail and are accepted. Those who do not\\nsubscribe to the said theory regarding natural rights, however, do maintain that\\nrights in order to be justiciable and enforceable must form part of the law or the\\nConstitution, that rights to be effective must receive their sanction and sustenance\\nfrom the law of the land and that rights which have not been codified or otherwise\\nmade a part of the law, cannot be enforced in courts of law nor can those rights\\noverride or restrict the scope of the plain language of the statute or the Constitution.\\n1511. Willoughby while dealing with the concept of natural rights has observed in Vol.\\nI of Constitution of the United States:\\nThe so-called 'natural' or unwritten laws defining the natural, inalienable, inherent\\nrights of the citizen, which, it is sometimes claimed, spring from the very nature of\\nfree government, have no force either to restrict or to extend the written provisions of\\nthe Constitution. The utmost that can be said for them is that where the language of\\nthe Constitution admits of doubt, it is to be presumed that authority is not given for\\nthe violation of acknowledged principles of justice and liberty.Kesavananda Bharati Sripadagalvaru ... vs State Of Kerala And Anr on 24 April, 1973\\nIndian Kanoon - http://indiankanoon.org/doc/257876/ 490\", start_char_idx=None, end_char_idx=None, text_template='{metadata_str}\\n\\n{content}', metadata_template='{key}: {value}', metadata_seperator='\\n'),\n",
       " Document(id_='a8f8a48c-3496-4006-b713-d685aa6fc401', embedding=None, metadata={'page_label': '29', 'file_name': '/home/darth/Documents/code/legal_AI_v0/local_rag/documents_4_v0/Indian_Young_Lawyers_Association_vs_The_State_Of_Kerala_on_28_September_2018.PDF', 'file_path': '/home/darth/Documents/code/legal_AI_v0/local_rag/documents_4_v0/Indian_Young_Lawyers_Association_vs_The_State_Of_Kerala_on_28_September_2018.PDF', 'file_type': 'application/pdf', 'file_size': 919179, 'creation_date': '2024-03-10', 'last_modified_date': '2024-02-27'}, excluded_embed_metadata_keys=['file_name', 'file_type', 'file_size', 'creation_date', 'last_modified_date', 'last_accessed_date'], excluded_llm_metadata_keys=['file_name', 'file_type', 'file_size', 'creation_date', 'last_modified_date', 'last_accessed_date'], relationships={}, text='upon the people of this country but was rather adopted and given by the people of this country to\\nthemselves, the term public morality has to be appositely understood as being synonymous with\\nconstitutional morality.\\n111. Having said so, the notions of public order, morality and health cannot be used as colourable\\ndevice to restrict the freedom to freely practise religion and discriminate against women of the age\\ngroup of 10 to 50 years by denying them their legal right to enter and offer their prayers at the\\nSabarimala temple for the simple reason that public morality must yield to constitutional morality.\\nWhether exclusionary practice is an essential practice as per Hindu religion\\n112. We have, in the earlier part of this judgment, determined that the devotees of Lord Ayyappa,\\nwho though claim to be a separate religious denomination, do not, as per the tests laid down by this\\nCourt in several decisions, most prominent of them being S.P. Mittal (supra), constitute a separate\\nreligious denomination within the meaning of Article 26 of the Constitution. This leads us to a\\nmathematical certainty that the devotees of Lord Ayyappa are the followers of Hindu religion. Now,\\nwhat remains to be seen is whether the exclusion of women of the age group of 10 to 50 years is an\\nessential practice under the Hindu religion in the backdrop of the peculiar attending circumstances\\nattributable to the Sabarimala temple. For ascertaining the said question, we first need to\\nunderstand what constitutes an essential practice for a particular religion which has been the\\nsubject matter of several decisions of this Court. Article 25 merely protects the freedom to practise\\nrituals, ceremonies, etc. which are an integral part of a religion as observed by this Court in John\\nVallamattom and another v. Union of India31. While saying so, the Court ruled that a disposition\\ntowards making gift for charitable or religious purpose can be designated as a pious act of a person,\\nbut the same cannot be said to be an integral part of any religion.\\n113. The role of essential practices to a particular religion has been well demonstrated by Lord\\nHalsbury in Free Church of Scotland v. Overtoun32 wherein it was observed:\\n\"In the absence of conformity to essentials, the denomination would not be an entity\\ncemented into solidity by harmonious uniformity of opinion, it would be a mere\\nincongruous heap of, as it were, grains of sand, thrown together without being\\nunited, each of these intellectual and isolated grains differing from every other, and\\nthe whole forming a but nominally united while really unconnected mass; fraught\\nwith (2003) 6 SCC 611 (1904) AC 515 nothing but internal dissimilitude, and mutual\\nand reciprocal contradiction and dissension.\"\\n114. This Court, in Shirur Mutt (supra), for the first time, held that what constitutes an essential part\\nof a religion will be ascertained with reference to the tenets and doctrines of that religion itself. The\\nCourt had opined thus:\\n\"In the first place, what constitutes the essential part of a religion is primarily to be\\nascertained with reference to the doctrines of that religion itself.\"Indian Young Lawyers Association vs The State Of Kerala on 28 September, 2018\\nIndian Kanoon - http://indiankanoon.org/doc/163639357/ 29', start_char_idx=None, end_char_idx=None, text_template='{metadata_str}\\n\\n{content}', metadata_template='{key}: {value}', metadata_seperator='\\n'),\n",
       " Document(id_='46be43ea-09a6-4d1c-9adc-9b13d8e98d5f', embedding=None, metadata={'page_label': '78', 'file_name': '/home/darth/Documents/code/legal_AI_v0/local_rag/documents_4_v0/Ashoka_Kumar_Thakur_vs_Union_Of_India_And_Ors_on_10_April_2008.PDF', 'file_path': '/home/darth/Documents/code/legal_AI_v0/local_rag/documents_4_v0/Ashoka_Kumar_Thakur_vs_Union_Of_India_And_Ors_on_10_April_2008.PDF', 'file_type': 'application/pdf', 'file_size': 524049, 'creation_date': '2024-03-10', 'last_modified_date': '2024-02-27'}, excluded_embed_metadata_keys=['file_name', 'file_type', 'file_size', 'creation_date', 'last_modified_date', 'last_accessed_date'], excluded_llm_metadata_keys=['file_name', 'file_type', 'file_size', 'creation_date', 'last_modified_date', 'last_accessed_date'], relationships={}, text='attempt was made on behalf of the petitioners/appellant to show that any caste mentioned in this\\nlist was not educationally and socially backward. No such averment was made in the affidavit in\\nsupport of their cases, nor was any attempt made to traverse the case put forward on behalf of the\\nState of Madras by filing a rejoinder affidavit to show that even one of the castes included in the list\\nwas not educationally and socially backward. In this state of the pleadings, we must come to the\\nconclusion that though the list is prepared caste-wise, the castes included therein are as a whole\\neducationally and socially backward and therefore the list is not violate of Art. 15. The challenge to r.\\n5 must therefore fail.\\n4) State of Andhra Pradesh v P. Sagar (1968 (3) SCR 595) \"In the context in which it occurs the\\nexpression \"class\" means a homogeneous section of the people grouped together because of certain\\nlikenesses or common traits and who are identifiable by some common attributes such as status,\\nrank, occupation, residence in a locality, race, religion and the like. In determining whether a\\nparticular section forms a class, caste cannot be excluded altogether. But in the determination of a\\nclass a test solely based upon the caste or community cannot also be accepted. By cl. (1) Art. 15\\nprohibits the State from discriminating against any citizen on grounds only of religion, race, caste,\\nsex, place of birth or any of them. By cl. (3) of Art. 15 the State is, notwithstanding the provision\\ncontained in cl. (1), permitted to make special provision for women and children. By cl. (4) a special\\nprovision for the advancement of any socially and educationally backward classes of citizens or for\\nthe Scheduled Castes and Scheduled Tribes is outside the purview of cl. (1). But cl. (4) is an\\nexception to cl. (1). Being an exception, it cannot be extended so as in effect to destroy the guarantee\\nof cl. (1). The Parliament has by enacting cl. (4) attempted to balance as against the right of equality\\nof citizens the special necessities of the weaker sections of the people by allowing a provision to be\\nmade for their advancement. In order that effect may be given to cl. (4), it must appear that the\\nbeneficiaries of the special provision are classes which are backward socially and educationally and\\nthey are other that the Scheduled Castes and Scheduled Tribes, and that the provision made is for\\ntheir advancement.\"\\n5. Minor A. Peeriakaruppan (Minor) v. State of T.N., (1971) 1 SCC 38 :\\n\"25. A caste has always been recognized as a class. In construing the expression\\n\"classes of His Majesty\\'s subject\" found in Section 153- A of the Indian Penal Code,\\nWassoodew, J., observed in Narayan Vasudev v. Emperor AIR 1940 Bomb 379 \"In my\\nopinion, the expression \\'classes of His Majesty\\'s subjects\\' in Section 153-A of the\\nCode is used in restrictive sense as denoting a collection of individuals or groups\\nbearing a common and exclusive designation and also possessing common and\\nexclusive characteristics which may be associated with their origin, race or religion,\\nand that the term \\'class\\' within that section carries with it the idea of numerical\\nstrength so large as could be grouped in a single homogeneous community.\"\\n26. In para 10, Chapter V of the Backward Classes Commission\\'s Report, it is observed:\\n\"We tried to avoid caste but we find it difficult to ignore caste in the present\\nprevailing conditions. We wish it were easy to dissociate caste from socialAshoka Kumar Thakur vs Union Of India And Ors on 10 April, 2008\\nIndian Kanoon - http://indiankanoon.org/doc/1219385/ 78', start_char_idx=None, end_char_idx=None, text_template='{metadata_str}\\n\\n{content}', metadata_template='{key}: {value}', metadata_seperator='\\n'),\n",
       " Document(id_='f6298bb3-a029-4f6f-88d1-de657385d9a7', embedding=None, metadata={'page_label': '102', 'file_name': '/home/darth/Documents/code/legal_AI_v0/local_rag/documents_4_v0/Shayara_Bano_vs_Union_Of_India_And_Ors_Ministry_Of_Women_on_22_August_2017.PDF', 'file_path': '/home/darth/Documents/code/legal_AI_v0/local_rag/documents_4_v0/Shayara_Bano_vs_Union_Of_India_And_Ors_Ministry_Of_Women_on_22_August_2017.PDF', 'file_type': 'application/pdf', 'file_size': 870518, 'creation_date': '2024-03-10', 'last_modified_date': '2024-02-27'}, excluded_embed_metadata_keys=['file_name', 'file_type', 'file_size', 'creation_date', 'last_modified_date', 'last_accessed_date'], excluded_llm_metadata_keys=['file_name', 'file_type', 'file_size', 'creation_date', 'last_modified_date', 'last_accessed_date'], relationships={}, text='against women. It was submitted, that Articles 14, 15 and 21 consituted an\\ninseparable part of the basic structure of the Constitution. These values –\\nthe right to equality, non-discrimination and the right to live life with\\ndignity, it was emphasized, formed the bedrock of the Constitution. Gender\\nequality and dignity for women, it was pointed out, was an inalienable and\\ninseparable part of the basic structure of the Constitution. Since women\\ntranscend all social barriers, it was submitted, that the most fundamental\\nfacet of equality under the Constitution was gender equality, and gender\\nequity.\\n65.       The learned Attorney General also pointed out, that a large number\\nof Islamic theocratic countries and countries with overwhelmingly large\\nMuslim populations, had undertaken significant reforms including the\\npractice of triple talaq.   These societies had accepted reform, as being\\nconsistent with the practice of Islam (-for details, refer to Part-5 –\\nAbrogation of the practice of ‘talaq-e-biddat’ by legislation, the world over, in\\nIslamic, as well as, non-Islamic States).     The paradox was that, Muslim\\nwomen in India, were more vulnerable in their social status as against\\nwomen even in predominantly Islamic States, even though India is a secular\\ncountry. It was submitted, that the position of Indian Muslim women was\\nmuch worst, than Muslim women who live in theocratic societies, or\\ncountries where Islam is the State religion.       It was contended, that the\\n                                                 111\\n\\x0cimpugned practice was repugnant to the guarantee of secularism, which it\\nwas pointed out, was an essential feature of the Constitution. Perpetuation\\nof regressive or unjust practices in the name of religion, it was submitted,\\nwas      anathema     to   a   secular    Constitution,   which     guarantees\\nnon-discrimination on grounds of religion. It was also submitted, that inShayara Bano vs Union Of India And Ors. Ministry Of Women ... on 22 August, 2017\\nIndian Kanoon - http://indiankanoon.org/doc/115701246/ 102', start_char_idx=None, end_char_idx=None, text_template='{metadata_str}\\n\\n{content}', metadata_template='{key}: {value}', metadata_seperator='\\n')]"
      ]
     },
     "execution_count": 39,
     "metadata": {},
     "output_type": "execute_result"
    }
   ],
   "source": [
    "random_documents"
   ]
  },
  {
   "cell_type": "code",
   "execution_count": 41,
   "metadata": {},
   "outputs": [
    {
     "data": {
      "text/plain": [
       "4"
      ]
     },
     "execution_count": 41,
     "metadata": {},
     "output_type": "execute_result"
    }
   ],
   "source": [
    "len(random_documents)"
   ]
  },
  {
   "cell_type": "code",
   "execution_count": 46,
   "metadata": {},
   "outputs": [
    {
     "data": {
      "text/plain": [
       "[]"
      ]
     },
     "execution_count": 46,
     "metadata": {},
     "output_type": "execute_result"
    }
   ],
   "source": [
    "eval_questions=[]\n",
    "eval_questions"
   ]
  },
  {
   "cell_type": "code",
   "execution_count": 58,
   "metadata": {},
   "outputs": [
    {
     "name": "stderr",
     "output_type": "stream",
     "text": [
      "/home/darth/Documents/code/legal_AI_v0/.venv/lib/python3.10/site-packages/llama_index/core/evaluation/dataset_generation.py:212: DeprecationWarning: Call to deprecated class DatasetGenerator. (Deprecated in favor of `RagDatasetGenerator` which should be used instead.)\n",
      "  return cls(\n"
     ]
    },
    {
     "name": "stdout",
     "output_type": "stream",
     "text": [
      "Failed to log trace tree to W&B: list index out of range\n",
      "Failed to log trace tree to W&B: list index out of range\n",
      "Failed to log trace tree to W&B: list index out of range\n",
      "Failed to log trace tree to W&B: list index out of range\n"
     ]
    },
    {
     "name": "stderr",
     "output_type": "stream",
     "text": [
      "/home/darth/Documents/code/legal_AI_v0/.venv/lib/python3.10/site-packages/llama_index/core/evaluation/dataset_generation.py:309: DeprecationWarning: Call to deprecated class QueryResponseDataset. (Deprecated in favor of `LabelledRagDataset` which should be used instead.)\n",
      "  return QueryResponseDataset(queries=queries, responses=responses_dict)\n"
     ]
    }
   ],
   "source": [
    "eval_questions=[]\n",
    "# Generating questions from the documents for evaluation\n",
    "data_generator = DatasetGenerator.from_documents(\n",
    "    random_documents, service_context=service_context, num_questions_per_chunk=1\n",
    ")\n",
    "\n",
    "# Applying nest_asyncio to run async code in Jupyter\n",
    "nest_asyncio.apply()\n",
    "eval_questions = data_generator.generate_questions_from_nodes()"
   ]
  },
  {
   "cell_type": "code",
   "execution_count": 76,
   "metadata": {},
   "outputs": [],
   "source": [
    "additional_questions = ['Who was the judge in Shayara Bano case?',\n",
    "                        'What was the judgement of Shayara Bano Case?',\n",
    "                        'Who was the accussed in Shayara Bano Case?',\n",
    "                        'What was the Shayara Bano Case about?']\n",
    "\n",
    "\n",
    "eval_questions = eval_questions + additional_questions"
   ]
  },
  {
   "cell_type": "code",
   "execution_count": 77,
   "metadata": {},
   "outputs": [
    {
     "data": {
      "text/plain": [
       "['According to the text, what is the view of later writers regarding the incorporation of natural rights in the Constitution and laws of the state?',\n",
       " 'How do those who do not subscribe to the theory of enforceability of natural rights believe rights should be justiciable and enforceable?',\n",
       " 'In the context of natural rights, what is the significance of the Constitution and statutory law according to the text?',\n",
       " \"How does Willoughby's observation regarding natural rights relate to the written provisions of the Constitution?\",\n",
       " 'Can natural rights be enforced in courts of law if they have not been codified or made a part of the law, according to the text?',\n",
       " 'According to the judgment, how is public morality related to constitutional morality in the context of religious practices at the Sabarimala temple?',\n",
       " 'How does the court determine whether the exclusion of women of a certain age group at the Sabarimala temple is an essential practice under Hindu religion?',\n",
       " 'In the case of Free Church of Scotland v. Overtoun, what did Lord Halsbury observe about the role of essential practices in a religion?',\n",
       " 'According to the judgment, how does the Court ascertain what constitutes an essential part of a religion in the case of Shirur Mutt (supra)?',\n",
       " 'According to the State of Andhra Pradesh v P. Sagar case, how is the term \"class\" defined in the context of discrimination and special provisions for advancement of certain groups of citizens?',\n",
       " 'How does the learned Attorney General argue that the practice of triple talaq is inconsistent with the values enshrined in the Constitution of India?',\n",
       " 'Who was the judge in Shayara Bano case?',\n",
       " 'What was the judgement of Shayara Bano Case?',\n",
       " 'Who was the accussed in Shayara Bano Case?',\n",
       " 'What was the Shayara Bano Case about?']"
      ]
     },
     "execution_count": 77,
     "metadata": {},
     "output_type": "execute_result"
    }
   ],
   "source": [
    "eval_questions"
   ]
  },
  {
   "cell_type": "code",
   "execution_count": 80,
   "metadata": {},
   "outputs": [
    {
     "data": {
      "text/plain": [
       "<Artifact eval-questions>"
      ]
     },
     "execution_count": 80,
     "metadata": {},
     "output_type": "execute_result"
    }
   ],
   "source": [
    "# Persisting the questions to a CSV file using W&B, for further loading\n",
    "# Create an artifact object\n",
    "artifact = wandb.Artifact(name=\"eval-questions\", type=\"text\")\n",
    "\n",
    "# Add the list of questions as a file to the artifact\n",
    "with artifact.new_file(\"questions.txt\", mode=\"w\") as f:\n",
    "    f.write(\"\\n\".join(eval_questions))\n",
    "\n",
    "# Log the artifact to W&B\n",
    "wandb.log_artifact(artifact)"
   ]
  },
  {
   "cell_type": "code",
   "execution_count": 81,
   "metadata": {},
   "outputs": [
    {
     "name": "stderr",
     "output_type": "stream",
     "text": [
      "\u001b[34m\u001b[1mwandb\u001b[0m: \u001b[33mWARNING\u001b[0m Artifact.get_path(name) is deprecated, use Artifact.get_entry(name) instead.\n",
      "\u001b[34m\u001b[1mwandb\u001b[0m:   1 of 1 files downloaded.  \n"
     ]
    }
   ],
   "source": [
    "# Lookup the artifact\n",
    "artifact = wandb.use_artifact(\"eval-questions:v2\")\n",
    "\n",
    "# Get the file containing the list of questions\n",
    "file = artifact.get_path(\"questions.txt\")\n",
    "\n",
    "# Download the artifact's contents\n",
    "artifact_dir = artifact.download()\n",
    "\n",
    "# Read the list of questions from the file\n",
    "# with file.open(\"r\") as f:\n",
    "#     questions = f.read().split(\"\\n\")\n",
    "\n",
    "# # Print the list of questions\n",
    "# print(questions)"
   ]
  },
  {
   "cell_type": "code",
   "execution_count": 82,
   "metadata": {},
   "outputs": [],
   "source": [
    "questions = eval_questions"
   ]
  },
  {
   "cell_type": "code",
   "execution_count": 83,
   "metadata": {},
   "outputs": [],
   "source": [
    "wandb_callback.finish()"
   ]
  },
  {
   "cell_type": "markdown",
   "metadata": {},
   "source": [
    "### Evaluation"
   ]
  },
  {
   "cell_type": "code",
   "execution_count": 5,
   "metadata": {},
   "outputs": [
    {
     "name": "stderr",
     "output_type": "stream",
     "text": [
      "Failed to detect the name of this notebook, you can set it manually with the WANDB_NOTEBOOK_NAME environment variable to enable code saving.\n",
      "\u001b[34m\u001b[1mwandb\u001b[0m: Streaming LlamaIndex events to W&B at https://wandb.ai/taaha-s-bajwa/test_local_alchemy_v0/runs/upu8qfik\n",
      "\u001b[34m\u001b[1mwandb\u001b[0m: `WandbCallbackHandler` is currently in beta.\n",
      "\u001b[34m\u001b[1mwandb\u001b[0m: Please report any issues to https://github.com/wandb/wandb/issues with the tag `llamaindex`.\n"
     ]
    }
   ],
   "source": [
    "# Initialize W&B for tracking and visualizations\n",
    "from llama_index.core.callbacks import CallbackManager\n",
    "from llama_index.callbacks.wandb import WandbCallbackHandler\n",
    "\n",
    "# Initialize W&B for response evaluation\n",
    "wandb_args = {\"project\": WANDB_PROJECT, \"name\": \"baseline-evaluation\"}\n",
    "wandb_callback = WandbCallbackHandler(run_args=wandb_args)\n",
    "callback_manager = CallbackManager([wandb_callback])"
   ]
  },
  {
   "cell_type": "code",
   "execution_count": 7,
   "metadata": {},
   "outputs": [
    {
     "data": {
      "text/plain": [
       "['According to the text, what is the view of later writers regarding the incorporation of natural rights in the Constitution and laws of the state?',\n",
       " 'How do those who do not subscribe to the theory of enforceability of natural rights believe rights should be justiciable and enforceable?',\n",
       " 'In the context of natural rights, what is the significance of the Constitution and statutory law according to the text?',\n",
       " \"How does Willoughby's observation regarding natural rights relate to the written provisions of the Constitution?\",\n",
       " 'Can natural rights be enforced in courts of law if they have not been codified or made a part of the law, according to the text?',\n",
       " 'According to the judgment, how is public morality related to constitutional morality in the context of religious practices at the Sabarimala temple?',\n",
       " 'How does the court determine whether the exclusion of women of a certain age group at the Sabarimala temple is an essential practice under Hindu religion?',\n",
       " 'In the case of Free Church of Scotland v. Overtoun, what did Lord Halsbury observe about the role of essential practices in a religion?',\n",
       " 'According to the judgment, how does the Court ascertain what constitutes an essential part of a religion in the case of Shirur Mutt (supra)?',\n",
       " 'According to the State of Andhra Pradesh v P. Sagar case, how is the term \"class\" defined in the context of discrimination and special provisions for advancement of certain groups of citizens?',\n",
       " 'How does the learned Attorney General argue that the practice of triple talaq is inconsistent with the values enshrined in the Constitution of India?',\n",
       " 'Who was the judge in Shayara Bano case?',\n",
       " 'What was the judgement of Shayara Bano Case?',\n",
       " 'Who was the accussed in Shayara Bano Case?',\n",
       " 'What was the Shayara Bano Case about?']"
      ]
     },
     "execution_count": 7,
     "metadata": {},
     "output_type": "execute_result"
    }
   ],
   "source": [
    "# Assume 'file_path' is the path to your text file\n",
    "file_path = 'artifacts/eval-questions:v2/questions.txt'\n",
    "\n",
    "# Read the file and store each line in a list\n",
    "with open(file_path, 'r') as file:\n",
    "    eval_questions = file.read().splitlines()\n",
    "\n",
    "# 'lines' now contains a list of strings, where each string is a line from the file\n",
    "eval_questions\n"
   ]
  },
  {
   "cell_type": "code",
   "execution_count": 19,
   "metadata": {},
   "outputs": [
    {
     "data": {
      "text/html": [
       "<div>\n",
       "<style scoped>\n",
       "    .dataframe tbody tr th:only-of-type {\n",
       "        vertical-align: middle;\n",
       "    }\n",
       "\n",
       "    .dataframe tbody tr th {\n",
       "        vertical-align: top;\n",
       "    }\n",
       "\n",
       "    .dataframe thead th {\n",
       "        text-align: right;\n",
       "    }\n",
       "</style>\n",
       "<table border=\"1\" class=\"dataframe\">\n",
       "  <thead>\n",
       "    <tr style=\"text-align: right;\">\n",
       "      <th></th>\n",
       "      <th>questions</th>\n",
       "    </tr>\n",
       "  </thead>\n",
       "  <tbody>\n",
       "    <tr>\n",
       "      <th>0</th>\n",
       "      <td>According to the text, what is the view of lat...</td>\n",
       "    </tr>\n",
       "    <tr>\n",
       "      <th>1</th>\n",
       "      <td>How do those who do not subscribe to the theor...</td>\n",
       "    </tr>\n",
       "    <tr>\n",
       "      <th>2</th>\n",
       "      <td>In the context of natural rights, what is the ...</td>\n",
       "    </tr>\n",
       "    <tr>\n",
       "      <th>3</th>\n",
       "      <td>How does Willoughby's observation regarding na...</td>\n",
       "    </tr>\n",
       "    <tr>\n",
       "      <th>4</th>\n",
       "      <td>Can natural rights be enforced in courts of la...</td>\n",
       "    </tr>\n",
       "  </tbody>\n",
       "</table>\n",
       "</div>"
      ],
      "text/plain": [
       "                                           questions\n",
       "0  According to the text, what is the view of lat...\n",
       "1  How do those who do not subscribe to the theor...\n",
       "2  In the context of natural rights, what is the ...\n",
       "3  How does Willoughby's observation regarding na...\n",
       "4  Can natural rights be enforced in courts of la..."
      ]
     },
     "execution_count": 19,
     "metadata": {},
     "output_type": "execute_result"
    }
   ],
   "source": [
    "# Preparing the data for evaluation\n",
    "question_df = pd.DataFrame(columns=[\"questions\"], data=eval_questions)\n",
    "question_df.head()"
   ]
  },
  {
   "cell_type": "code",
   "execution_count": 11,
   "metadata": {},
   "outputs": [],
   "source": [
    "from llama_index.core import Settings\n",
    "from llama_index.llms.openai import OpenAI\n",
    "from llama_index.core import ServiceContext\n",
    "from llama_index.embeddings.openai import OpenAIEmbedding\n",
    "\n",
    "# Setting up the ServiceContext with the language model and embedding model\n",
    "Settings.embed_model = OpenAIEmbedding(model=\"text-embedding-3-small\")\n",
    "\n",
    "# Setup for evaluating the responses\n",
    "llm_eval = OpenAI(temperature=0, model=\"gpt-3.5-turbo\")\n",
    "service_context_eval = ServiceContext.from_defaults(\n",
    "    llm=llm_eval, \n",
    "    callback_manager=callback_manager\n",
    ")"
   ]
  },
  {
   "cell_type": "code",
   "execution_count": 17,
   "metadata": {},
   "outputs": [],
   "source": [
    "# Running the evaluation using BatchEvalRunner\n",
    "from llama_index.core.evaluation import (\n",
    "    BatchEvalRunner,\n",
    "    FaithfulnessEvaluator,\n",
    "    RelevancyEvaluator,\n",
    ")\n",
    "\n",
    "faithfulness_evaluator = FaithfulnessEvaluator(service_context=service_context_eval)\n",
    "relevancy_evaluator = RelevancyEvaluator(service_context=service_context_eval)\n",
    "runner = BatchEvalRunner(\n",
    "    {\"faithfulness\": faithfulness_evaluator, \"relevancy\": relevancy_evaluator},\n",
    "    workers=8,\n",
    ")\n",
    "\n",
    "eval_results = await runner.aevaluate_queries(\n",
    "    index.as_query_engine(), queries=eval_questions\n",
    ")"
   ]
  },
  {
   "cell_type": "code",
   "execution_count": 18,
   "metadata": {},
   "outputs": [
    {
     "data": {
      "text/html": [
       "<div>\n",
       "<style scoped>\n",
       "    .dataframe tbody tr th:only-of-type {\n",
       "        vertical-align: middle;\n",
       "    }\n",
       "\n",
       "    .dataframe tbody tr th {\n",
       "        vertical-align: top;\n",
       "    }\n",
       "\n",
       "    .dataframe thead th {\n",
       "        text-align: right;\n",
       "    }\n",
       "</style>\n",
       "<table border=\"1\" class=\"dataframe\">\n",
       "  <thead>\n",
       "    <tr style=\"text-align: right;\">\n",
       "      <th></th>\n",
       "      <th>query</th>\n",
       "      <th>contexts</th>\n",
       "      <th>response</th>\n",
       "      <th>passing</th>\n",
       "      <th>feedback</th>\n",
       "      <th>score</th>\n",
       "      <th>pairwise_source</th>\n",
       "      <th>invalid_result</th>\n",
       "      <th>invalid_reason</th>\n",
       "    </tr>\n",
       "  </thead>\n",
       "  <tbody>\n",
       "    <tr>\n",
       "      <th>0</th>\n",
       "      <td>According to the text, what is the view of lat...</td>\n",
       "      <td>[individual have been subordinated to the gene...</td>\n",
       "      <td>Later writers generally believe that natural r...</td>\n",
       "      <td>True</td>\n",
       "      <td>YES</td>\n",
       "      <td>1.0</td>\n",
       "      <td>None</td>\n",
       "      <td>False</td>\n",
       "      <td>None</td>\n",
       "    </tr>\n",
       "    <tr>\n",
       "      <th>1</th>\n",
       "      <td>How do those who do not subscribe to the theor...</td>\n",
       "      <td>[individual have been subordinated to the gene...</td>\n",
       "      <td>Those who do not subscribe to the theory of en...</td>\n",
       "      <td>True</td>\n",
       "      <td>YES</td>\n",
       "      <td>1.0</td>\n",
       "      <td>None</td>\n",
       "      <td>False</td>\n",
       "      <td>None</td>\n",
       "    </tr>\n",
       "    <tr>\n",
       "      <th>2</th>\n",
       "      <td>In the context of natural rights, what is the ...</td>\n",
       "      <td>[individual have been subordinated to the gene...</td>\n",
       "      <td>The text emphasizes that natural rights have n...</td>\n",
       "      <td>True</td>\n",
       "      <td>YES</td>\n",
       "      <td>1.0</td>\n",
       "      <td>None</td>\n",
       "      <td>False</td>\n",
       "      <td>None</td>\n",
       "    </tr>\n",
       "    <tr>\n",
       "      <th>3</th>\n",
       "      <td>How does Willoughby's observation regarding na...</td>\n",
       "      <td>[individual have been subordinated to the gene...</td>\n",
       "      <td>Willoughby's observation suggests that the so-...</td>\n",
       "      <td>True</td>\n",
       "      <td>YES</td>\n",
       "      <td>1.0</td>\n",
       "      <td>None</td>\n",
       "      <td>False</td>\n",
       "      <td>None</td>\n",
       "    </tr>\n",
       "    <tr>\n",
       "      <th>4</th>\n",
       "      <td>Can natural rights be enforced in courts of la...</td>\n",
       "      <td>[individual have been subordinated to the gene...</td>\n",
       "      <td>Natural rights cannot be enforced in courts of...</td>\n",
       "      <td>True</td>\n",
       "      <td>YES</td>\n",
       "      <td>1.0</td>\n",
       "      <td>None</td>\n",
       "      <td>False</td>\n",
       "      <td>None</td>\n",
       "    </tr>\n",
       "  </tbody>\n",
       "</table>\n",
       "</div>"
      ],
      "text/plain": [
       "                                               query  \\\n",
       "0  According to the text, what is the view of lat...   \n",
       "1  How do those who do not subscribe to the theor...   \n",
       "2  In the context of natural rights, what is the ...   \n",
       "3  How does Willoughby's observation regarding na...   \n",
       "4  Can natural rights be enforced in courts of la...   \n",
       "\n",
       "                                            contexts  \\\n",
       "0  [individual have been subordinated to the gene...   \n",
       "1  [individual have been subordinated to the gene...   \n",
       "2  [individual have been subordinated to the gene...   \n",
       "3  [individual have been subordinated to the gene...   \n",
       "4  [individual have been subordinated to the gene...   \n",
       "\n",
       "                                            response  passing feedback  score  \\\n",
       "0  Later writers generally believe that natural r...     True      YES    1.0   \n",
       "1  Those who do not subscribe to the theory of en...     True      YES    1.0   \n",
       "2  The text emphasizes that natural rights have n...     True      YES    1.0   \n",
       "3  Willoughby's observation suggests that the so-...     True      YES    1.0   \n",
       "4  Natural rights cannot be enforced in courts of...     True      YES    1.0   \n",
       "\n",
       "  pairwise_source  invalid_result invalid_reason  \n",
       "0            None           False           None  \n",
       "1            None           False           None  \n",
       "2            None           False           None  \n",
       "3            None           False           None  \n",
       "4            None           False           None  "
      ]
     },
     "execution_count": 18,
     "metadata": {},
     "output_type": "execute_result"
    }
   ],
   "source": [
    "# Make a dataframe from the results.\n",
    "faithfulness_df = pd.DataFrame.from_records(\n",
    "    [eval_result.dict() for eval_result in eval_results[\"faithfulness\"]]\n",
    ")\n",
    "relevancy_df = pd.DataFrame.from_records(\n",
    "    [eval_result.dict() for eval_result in eval_results[\"relevancy\"]]\n",
    ")\n",
    "relevancy_df.head()"
   ]
  },
  {
   "cell_type": "code",
   "execution_count": 20,
   "metadata": {},
   "outputs": [],
   "source": [
    "# save questions , faithfulness_df and relevancy_df to csv. Drop none columns from faithfulness_df and relevancy_df\n",
    "question_df.to_csv(\"questions.csv\", index=False)\n",
    "faithfulness_df.dropna(axis=1).to_csv(\"faithfulness.csv\", index=False)\n",
    "relevancy_df.dropna(axis=1).to_csv(\"relevancy.csv\", index=False)"
   ]
  },
  {
   "cell_type": "code",
   "execution_count": 21,
   "metadata": {},
   "outputs": [],
   "source": [
    "# Make 2 new tables in Wandb for Faithfulness and Relevancy. Log the results.\n",
    "# Firstly, create a table for Faithfulness.\n",
    "import wandb\n",
    "\n",
    "faithfulness_table = wandb.Table(dataframe=faithfulness_df)\n",
    "relevancy_table = wandb.Table(dataframe=relevancy_df)"
   ]
  },
  {
   "cell_type": "code",
   "execution_count": 22,
   "metadata": {},
   "outputs": [],
   "source": [
    "wandb.log({\"faithfulness\": faithfulness_table, \"relevancy\": relevancy_table})"
   ]
  },
  {
   "cell_type": "code",
   "execution_count": 23,
   "metadata": {},
   "outputs": [],
   "source": [
    "# wandb log scalr mean of faithfulness and relevancy scores\n",
    "wandb.log({\"faithfulness_mean\": faithfulness_df[\"score\"].mean()})\n",
    "wandb.log({\"relevancy_mean\": relevancy_df[\"score\"].mean()})"
   ]
  },
  {
   "cell_type": "code",
   "execution_count": 24,
   "metadata": {},
   "outputs": [
    {
     "data": {
      "text/plain": [
       "(1.0, 1.0)"
      ]
     },
     "execution_count": 24,
     "metadata": {},
     "output_type": "execute_result"
    }
   ],
   "source": [
    "faithfulness_df[\"score\"].mean(), relevancy_df[\"score\"].mean()"
   ]
  },
  {
   "cell_type": "code",
   "execution_count": 25,
   "metadata": {},
   "outputs": [],
   "source": [
    "wandb_callback.finish()"
   ]
  },
  {
   "cell_type": "code",
   "execution_count": null,
   "metadata": {},
   "outputs": [],
   "source": []
  }
 ],
 "metadata": {
  "kernelspec": {
   "display_name": ".venv",
   "language": "python",
   "name": "python3"
  },
  "language_info": {
   "codemirror_mode": {
    "name": "ipython",
    "version": 3
   },
   "file_extension": ".py",
   "mimetype": "text/x-python",
   "name": "python",
   "nbconvert_exporter": "python",
   "pygments_lexer": "ipython3",
   "version": "3.10.12"
  }
 },
 "nbformat": 4,
 "nbformat_minor": 2
}
