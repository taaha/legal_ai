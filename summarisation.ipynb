{
 "cells": [
  {
   "cell_type": "code",
   "execution_count": 1,
   "metadata": {},
   "outputs": [
    {
     "data": {
      "text/plain": [
       "True"
      ]
     },
     "execution_count": 1,
     "metadata": {},
     "output_type": "execute_result"
    }
   ],
   "source": [
    "from llama_index.core import VectorStoreIndex, SimpleDirectoryReader\n",
    "from llama_index.vector_stores.chroma import ChromaVectorStore\n",
    "from llama_index.core import StorageContext\n",
    "from llama_index.embeddings.openai import OpenAIEmbedding\n",
    "from llama_index.core.indices import ListIndex\n",
    "from llama_index.core import Settings\n",
    "import chromadb\n",
    "import openai\n",
    "import os\n",
    "import utils\n",
    "from dotenv import load_dotenv\n",
    "\n",
    "\n",
    "load_dotenv()  # take environment variables from .env."
   ]
  },
  {
   "cell_type": "markdown",
   "metadata": {},
   "source": [
    "### Summarisation using tree index"
   ]
  },
  {
   "cell_type": "code",
   "execution_count": 2,
   "metadata": {},
   "outputs": [],
   "source": [
    "import tiktoken\n",
    "from llama_index.core.callbacks import CallbackManager, TokenCountingHandler\n",
    "from llama_index.llms.openai import OpenAI\n",
    "from llama_index.core import Settings\n",
    "\n",
    "\n",
    "token_counter = TokenCountingHandler(\n",
    "    tokenizer=tiktoken.encoding_for_model(\"gpt-3.5-turbo\").encode\n",
    ")\n",
    "\n",
    "Settings.callback_manager = CallbackManager([token_counter])"
   ]
  },
  {
   "cell_type": "code",
   "execution_count": 3,
   "metadata": {},
   "outputs": [
    {
     "name": "stdout",
     "output_type": "stream",
     "text": [
      "The document extensively examines the practice of 'talaq-e-biddat' (triple talaq) in Muslim personal law in India, focusing on its historical origins, legal implications, and debates on its validity. It discusses the challenges to its validity under constitutional principles, the importance of gender equality, and the need for legislative and judicial interventions to address discriminatory practices within personal laws. The document emphasizes the protection of personal laws under the Constitution, particularly Article 25, and suggests legislative action to address issues related to 'talaq-e-biddat'. It also touches upon court cases, judgments, and Quranic principles, highlighting the legal challenge to triple talaq in India and the differing views on the constitutional scrutiny of personal laws.\n"
     ]
    }
   ],
   "source": [
    "# import time\n",
    "# start_time = time.time()\n",
    "\n",
    "documents = SimpleDirectoryReader(\n",
    "        input_files=[\"documents_4_v0/Shayara_Bano_vs_Union_Of_India_And_Ors_Ministry_Of_Women_on_22_August_2017.PDF\"]\n",
    "    ).load_data()\n",
    "\n",
    "index = ListIndex.from_documents(documents)\n",
    "\n",
    "prompt = \"Summarize this document\"\n",
    "\n",
    "sumarissed_response = index.as_query_engine(response_mode=\"tree_summarize\").query(prompt)\n",
    "\n",
    "# print(time.time() - start_time, 'seconds taken')\n",
    "print(sumarissed_response)"
   ]
  },
  {
   "cell_type": "code",
   "execution_count": 4,
   "metadata": {},
   "outputs": [
    {
     "name": "stdout",
     "output_type": "stream",
     "text": [
      "Embedding Tokens:  0 \n",
      " LLM Prompt Tokens:  249396 \n",
      " LLM Completion Tokens:  9605 \n",
      " Total LLM Token Count:  259001 \n",
      "\n"
     ]
    }
   ],
   "source": [
    "print(\n",
    "    \"Embedding Tokens: \",\n",
    "    token_counter.total_embedding_token_count,\n",
    "    \"\\n\",\n",
    "    \"LLM Prompt Tokens: \",\n",
    "    token_counter.prompt_llm_token_count,\n",
    "    \"\\n\",\n",
    "    \"LLM Completion Tokens: \",\n",
    "    token_counter.completion_llm_token_count,\n",
    "    \"\\n\",\n",
    "    \"Total LLM Token Count: \",\n",
    "    token_counter.total_llm_token_count,\n",
    "    \"\\n\",\n",
    ")"
   ]
  },
  {
   "cell_type": "code",
   "execution_count": 5,
   "metadata": {},
   "outputs": [],
   "source": [
    "token_counter.reset_counts()"
   ]
  },
  {
   "cell_type": "markdown",
   "metadata": {},
   "source": [
    "### Summarisation using simple query engine"
   ]
  },
  {
   "cell_type": "code",
   "execution_count": 6,
   "metadata": {},
   "outputs": [
    {
     "name": "stdout",
     "output_type": "stream",
     "text": [
      "The document discusses the importance of judges embodying various qualities to make objective decisions, emphasizing the need for purposive interpretation of dynamic constitutional concepts. It mentions the role of social legislation in ordering people's lives and the need for laws to expand freedom and address social inequalities. The document also touches upon the need to divorce religion from personal law and foster a national identity while preserving Indian cultural pluralism. Additionally, it references specific verses from the Quran related to women's courses.\n"
     ]
    }
   ],
   "source": [
    "documents = SimpleDirectoryReader(\n",
    "        input_files=[\"documents_4_v0/Shayara_Bano_vs_Union_Of_India_And_Ors_Ministry_Of_Women_on_22_August_2017.PDF\"]\n",
    "    ).load_data()\n",
    "\n",
    "index = VectorStoreIndex.from_documents(documents)\n",
    "query_engine = index.as_query_engine()\n",
    "\n",
    "response = query_engine.query(\"Summarize this document\")\n",
    "print(response)"
   ]
  },
  {
   "cell_type": "code",
   "execution_count": 7,
   "metadata": {},
   "outputs": [
    {
     "name": "stdout",
     "output_type": "stream",
     "text": [
      "Embedding Tokens:  206777 \n",
      " LLM Prompt Tokens:  1315 \n",
      " LLM Completion Tokens:  93 \n",
      " Total LLM Token Count:  1408 \n",
      "\n"
     ]
    }
   ],
   "source": [
    "print(\n",
    "    \"Embedding Tokens: \",\n",
    "    token_counter.total_embedding_token_count,\n",
    "    \"\\n\",\n",
    "    \"LLM Prompt Tokens: \",\n",
    "    token_counter.prompt_llm_token_count,\n",
    "    \"\\n\",\n",
    "    \"LLM Completion Tokens: \",\n",
    "    token_counter.completion_llm_token_count,\n",
    "    \"\\n\",\n",
    "    \"Total LLM Token Count: \",\n",
    "    token_counter.total_llm_token_count,\n",
    "    \"\\n\",\n",
    ")"
   ]
  },
  {
   "cell_type": "code",
   "execution_count": 8,
   "metadata": {},
   "outputs": [
    {
     "data": {
      "text/plain": [
       "312"
      ]
     },
     "execution_count": 8,
     "metadata": {},
     "output_type": "execute_result"
    }
   ],
   "source": [
    "len(documents)"
   ]
  },
  {
   "cell_type": "code",
   "execution_count": 13,
   "metadata": {},
   "outputs": [],
   "source": [
    "token_counter.reset_counts()"
   ]
  },
  {
   "cell_type": "markdown",
   "metadata": {},
   "source": [
    "### Summarisation using simple query engine with top k"
   ]
  },
  {
   "cell_type": "code",
   "execution_count": 12,
   "metadata": {},
   "outputs": [
    {
     "data": {
      "text/plain": [
       "10"
      ]
     },
     "execution_count": 12,
     "metadata": {},
     "output_type": "execute_result"
    }
   ],
   "source": [
    "len(documents[0:10])"
   ]
  },
  {
   "cell_type": "code",
   "execution_count": 14,
   "metadata": {},
   "outputs": [
    {
     "name": "stdout",
     "output_type": "stream",
     "text": [
      "The document discusses a legal case involving the practice of 'talaq-e-biddat' (triple talaq) in Muslim personal law. The respondent-husband claims that his pronouncement of divorce was valid under the Hanafi sect of Sunni Muslims and in accordance with Sharia law. The husband argues that the wife's petition under Article 32 of the Indian Constitution is not maintainable as the issues raised are not justiciable. The court decided to focus specifically on the issue of triple talaq in this case.\n"
     ]
    }
   ],
   "source": [
    "documents = SimpleDirectoryReader(\n",
    "        input_files=[\"documents_4_v0/Shayara_Bano_vs_Union_Of_India_And_Ors_Ministry_Of_Women_on_22_August_2017.PDF\"]\n",
    "    ).load_data()\n",
    "\n",
    "if len(documents) > 20:\n",
    "    documents = documents[:20]\n",
    "\n",
    "index = VectorStoreIndex.from_documents(documents)\n",
    "query_engine = index.as_query_engine()\n",
    "\n",
    "response = query_engine.query(\"Summarize this document\")\n",
    "print(response)"
   ]
  },
  {
   "cell_type": "code",
   "execution_count": 15,
   "metadata": {},
   "outputs": [
    {
     "name": "stdout",
     "output_type": "stream",
     "text": [
      "Embedding Tokens:  10755 \n",
      " LLM Prompt Tokens:  1075 \n",
      " LLM Completion Tokens:  107 \n",
      " Total LLM Token Count:  1182 \n",
      "\n"
     ]
    }
   ],
   "source": [
    "print(\n",
    "    \"Embedding Tokens: \",\n",
    "    token_counter.total_embedding_token_count,\n",
    "    \"\\n\",\n",
    "    \"LLM Prompt Tokens: \",\n",
    "    token_counter.prompt_llm_token_count,\n",
    "    \"\\n\",\n",
    "    \"LLM Completion Tokens: \",\n",
    "    token_counter.completion_llm_token_count,\n",
    "    \"\\n\",\n",
    "    \"Total LLM Token Count: \",\n",
    "    token_counter.total_llm_token_count,\n",
    "    \"\\n\",\n",
    ")"
   ]
  },
  {
   "cell_type": "code",
   "execution_count": null,
   "metadata": {},
   "outputs": [],
   "source": []
  }
 ],
 "metadata": {
  "kernelspec": {
   "display_name": "envlegal2",
   "language": "python",
   "name": "python3"
  },
  "language_info": {
   "codemirror_mode": {
    "name": "ipython",
    "version": 3
   },
   "file_extension": ".py",
   "mimetype": "text/x-python",
   "name": "python",
   "nbconvert_exporter": "python",
   "pygments_lexer": "ipython3",
   "version": "3.10.12"
  }
 },
 "nbformat": 4,
 "nbformat_minor": 2
}
